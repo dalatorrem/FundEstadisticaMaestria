{
  "nbformat": 4,
  "nbformat_minor": 0,
  "metadata": {
    "colab": {
      "provenance": [],
      "collapsed_sections": [
        "99NHufrLsaDi",
        "_a9Igx1DAGoG"
      ],
      "include_colab_link": true
    },
    "kernelspec": {
      "name": "python3",
      "display_name": "Python 3"
    },
    "language_info": {
      "name": "python"
    }
  },
  "cells": [
    {
      "cell_type": "markdown",
      "metadata": {
        "id": "view-in-github",
        "colab_type": "text"
      },
      "source": [
        "<a href=\"https://colab.research.google.com/github/dalatorrem/FundEstadisticaMaestria/blob/main/Copia_de_Lectura_7.ipynb\" target=\"_parent\"><img src=\"https://colab.research.google.com/assets/colab-badge.svg\" alt=\"Open In Colab\"/></a>"
      ]
    },
    {
      "cell_type": "markdown",
      "source": [
        "![identificadores_centrados_en_ti_logo-h.png](data:image/png;base64,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)"
      ],
      "metadata": {
        "id": "Gq3puzVusOmv"
      }
    },
    {
      "cell_type": "markdown",
      "metadata": {
        "id": "HKVj8F-3qsUq"
      },
      "source": [
        "---\n",
        "# Librería `pandas`\n",
        "---\n",
        "\n",
        "Será nuestra librería base para trabajar con los `dataframe`, es decir, una estructura de datos bidimensional, donde las columnas serán las variables o características y las filas serán los registro. Es una librería que trabaja a la par con muchas de las librerías de **Python**. Puede consultar más información en la página oficial de [`pandas.`](https://pandas.pydata.org/docs/index.html)"
      ]
    },
    {
      "cell_type": "code",
      "metadata": {
        "id": "7UQM9sE960bU"
      },
      "source": [
        "## Librerías requeridas\n",
        "import numpy as np\n",
        "import pandas as pd"
      ],
      "execution_count": null,
      "outputs": []
    },
    {
      "cell_type": "markdown",
      "metadata": {
        "id": "XDgaxPUOmzVK"
      },
      "source": [
        "---\n",
        "## Series\n",
        "---\n",
        "Vamos a explorar la estructura de serie en `pandas`. Debemos al final estar\n",
        "familiarizados en cómo almacenar y manipular datos indexados unidimensionales.\n",
        "\n",
        "La serie es una de las estructuras de datos esenciales en `pandas`. Todos los elementos se almacenan en la serie y hay etiquetas con las que se puede recuperarlos. Una forma sencilla de pensar una serie en `pandas` son las columnas de datos. El primero es el índice especial, muy parecido a las llaves o keys de un diccionario. Mientras que el segundo son los datos reales. Es importante tener en cuenta que la columna de datos tiene una etiqueta propia y se puede recuperar."
      ]
    },
    {
      "cell_type": "code",
      "metadata": {
        "colab": {
          "base_uri": "https://localhost:8080/"
        },
        "id": "JVWOsrh-vMpb",
        "outputId": "efbe034e-c77a-4b37-9be9-45a353f949d3"
      },
      "source": [
        "estudiantes = [\"Maria\", \"Juan\", \"Alejandra\"]\n",
        "pd.Series(estudiantes)"
      ],
      "execution_count": null,
      "outputs": [
        {
          "output_type": "execute_result",
          "data": {
            "text/plain": [
              "0        Maria\n",
              "1         Juan\n",
              "2    Alejandra\n",
              "dtype: object"
            ]
          },
          "metadata": {},
          "execution_count": 2
        }
      ]
    },
    {
      "cell_type": "markdown",
      "metadata": {
        "id": "LDZB-_vhvkjw"
      },
      "source": [
        "El resultado es una serie de `pandas`, los índices son dados automaticamente siguiendo en orden de los números naturales. Además `pandas` identificó el tipo de datos de esta serie como \"object\" y estandariza el tipo de dato buscando el que mejor corresponda."
      ]
    },
    {
      "cell_type": "code",
      "metadata": {
        "id": "O9T--JvTnNmE"
      },
      "source": [
        "estudiantes = {\"Maria\":\"Química\",\n",
        "               \"Juan\": \"Sociales\",\n",
        "               \"Alejandra\": \"Matemáticas\"}"
      ],
      "execution_count": null,
      "outputs": []
    },
    {
      "cell_type": "code",
      "metadata": {
        "colab": {
          "base_uri": "https://localhost:8080/"
        },
        "id": "UQOcb2vKn-lI",
        "outputId": "58864cc7-c084-47f3-a334-b11dbc6a16ee"
      },
      "source": [
        "## En el caso de tener un diccionario las claves o keys serán los índices y los valores la asignación a dicho índice\n",
        "pd.Series(estudiantes)"
      ],
      "execution_count": null,
      "outputs": [
        {
          "output_type": "execute_result",
          "data": {
            "text/plain": [
              "Maria            Química\n",
              "Juan            Sociales\n",
              "Alejandra    Matemáticas\n",
              "dtype: object"
            ]
          },
          "metadata": {},
          "execution_count": 4
        }
      ]
    },
    {
      "cell_type": "code",
      "metadata": {
        "id": "s-uijI6SoWNh"
      },
      "source": [
        "serie = pd.Series(estudiantes)"
      ],
      "execution_count": null,
      "outputs": []
    },
    {
      "cell_type": "code",
      "metadata": {
        "colab": {
          "base_uri": "https://localhost:8080/"
        },
        "id": "Jy16R-fOoZvK",
        "outputId": "0523158c-c8e6-4a61-8250-1c6b6ad4f936"
      },
      "source": [
        "serie[0], serie[1], serie[2]"
      ],
      "execution_count": null,
      "outputs": [
        {
          "output_type": "execute_result",
          "data": {
            "text/plain": [
              "('Química', 'Sociales', 'Matemáticas')"
            ]
          },
          "metadata": {},
          "execution_count": 6
        }
      ]
    },
    {
      "cell_type": "code",
      "metadata": {
        "colab": {
          "base_uri": "https://localhost:8080/"
        },
        "id": "RjnGOaTDpPuP",
        "outputId": "1519abca-ef3c-438e-b0d4-d1e35f7f9eb8"
      },
      "source": [
        "serie.index"
      ],
      "execution_count": null,
      "outputs": [
        {
          "output_type": "execute_result",
          "data": {
            "text/plain": [
              "Index(['Maria', 'Juan', 'Alejandra'], dtype='object')"
            ]
          },
          "metadata": {},
          "execution_count": 7
        }
      ]
    },
    {
      "cell_type": "code",
      "metadata": {
        "colab": {
          "base_uri": "https://localhost:8080/"
        },
        "id": "oMvb4Z1HpaAo",
        "outputId": "650cb267-e7e6-4756-ccdb-7b588e7087e6"
      },
      "source": [
        "for i in serie.index:\n",
        "  print(f'El índice {i} tiene el valor {serie[i]}')"
      ],
      "execution_count": null,
      "outputs": [
        {
          "output_type": "stream",
          "name": "stdout",
          "text": [
            "El índice Maria tiene el valor Química\n",
            "El índice Juan tiene el valor Sociales\n",
            "El índice Alejandra tiene el valor Matemáticas\n"
          ]
        }
      ]
    },
    {
      "cell_type": "code",
      "metadata": {
        "colab": {
          "base_uri": "https://localhost:8080/"
        },
        "id": "i9ORCbOXpsa-",
        "outputId": "32638608-30ba-4387-fba6-bb0090e1fbac"
      },
      "source": [
        "# El índice se genera automaticamente desde 0 hasta el número de entradas en la lista.\n",
        "numeros = [1,2,3]\n",
        "pd.Series(numeros)"
      ],
      "execution_count": null,
      "outputs": [
        {
          "output_type": "execute_result",
          "data": {
            "text/plain": [
              "0    1\n",
              "1    2\n",
              "2    3\n",
              "dtype: int64"
            ]
          },
          "metadata": {},
          "execution_count": 9
        }
      ]
    },
    {
      "cell_type": "code",
      "metadata": {
        "colab": {
          "base_uri": "https://localhost:8080/"
        },
        "id": "uw-4BTmaqYP5",
        "outputId": "e9a98c7a-2f62-4a31-e174-0615aae215db"
      },
      "source": [
        "# En las series de pandas puede usted mismo asignar los valores a los índices.\n",
        "pd.Series(numeros, index=[\"Uno\",\"Dos\",\"Tres\"])"
      ],
      "execution_count": null,
      "outputs": [
        {
          "output_type": "execute_result",
          "data": {
            "text/plain": [
              "Uno     1\n",
              "Dos     2\n",
              "Tres    3\n",
              "dtype: int64"
            ]
          },
          "metadata": {},
          "execution_count": 10
        }
      ]
    },
    {
      "cell_type": "code",
      "metadata": {
        "colab": {
          "base_uri": "https://localhost:8080/"
        },
        "id": "Y9kPraj2sHg3",
        "outputId": "f8753e51-7d45-4da4-bcfa-cc438c97ba96"
      },
      "source": [
        "serie_1 = pd.Series([\"Química\", \"Matemáticas\", \"Química\",\"Sociales\"], index= [\"Maria\", \"Juan\", \"Carlos\",\"Alison\"])\n",
        "serie_1"
      ],
      "execution_count": null,
      "outputs": [
        {
          "output_type": "execute_result",
          "data": {
            "text/plain": [
              "Maria         Química\n",
              "Juan      Matemáticas\n",
              "Carlos        Química\n",
              "Alison       Sociales\n",
              "dtype: object"
            ]
          },
          "metadata": {},
          "execution_count": 11
        }
      ]
    },
    {
      "cell_type": "code",
      "metadata": {
        "colab": {
          "base_uri": "https://localhost:8080/"
        },
        "id": "dCryytbexRg1",
        "outputId": "fc22a782-137d-45e2-f48d-b358b09c002c"
      },
      "source": [
        "serie_2 = pd.Series([\"Química\", \"Matemáticas\", \"Química\", None], index= [\"Maria\", \"Juan\", \"Carlos\",\"Alison\"])\n",
        "serie_2"
      ],
      "execution_count": null,
      "outputs": [
        {
          "output_type": "execute_result",
          "data": {
            "text/plain": [
              "Maria         Química\n",
              "Juan      Matemáticas\n",
              "Carlos        Química\n",
              "Alison           None\n",
              "dtype: object"
            ]
          },
          "metadata": {},
          "execution_count": 12
        }
      ]
    },
    {
      "cell_type": "code",
      "metadata": {
        "colab": {
          "base_uri": "https://localhost:8080/"
        },
        "id": "1akrZslSxmRZ",
        "outputId": "08b13a44-1a01-4264-973d-9098be20b10a"
      },
      "source": [
        "serie_3 = pd.Series([1,2,3,None], index= [\"Maria\", \"Juan\", \"Carlos\",\"Alison\"])\n",
        "serie_3"
      ],
      "execution_count": null,
      "outputs": [
        {
          "output_type": "execute_result",
          "data": {
            "text/plain": [
              "Maria     1.0\n",
              "Juan      2.0\n",
              "Carlos    3.0\n",
              "Alison    NaN\n",
              "dtype: float64"
            ]
          },
          "metadata": {},
          "execution_count": 13
        }
      ]
    },
    {
      "cell_type": "code",
      "metadata": {
        "id": "s5Ra9Z8PzpmQ"
      },
      "source": [
        "notas_clase = {99: 'Matemáticas',\n",
        "              100: 'Química',\n",
        "              101: 'Inglés',\n",
        "              102: 'Sociales'}\n",
        "serie_4 = pd.Series(notas_clase)\n",
        "#serie_4[0]"
      ],
      "execution_count": null,
      "outputs": []
    },
    {
      "cell_type": "code",
      "metadata": {
        "colab": {
          "base_uri": "https://localhost:8080/"
        },
        "id": "xaIh3sBT0aCa",
        "outputId": "80b5f3bf-3fbc-426e-92b1-26e111b6466c"
      },
      "source": [
        "serie_1"
      ],
      "execution_count": null,
      "outputs": [
        {
          "output_type": "execute_result",
          "data": {
            "text/plain": [
              "Maria         Química\n",
              "Juan      Matemáticas\n",
              "Carlos        Química\n",
              "Alison       Sociales\n",
              "dtype: object"
            ]
          },
          "metadata": {},
          "execution_count": 15
        }
      ]
    },
    {
      "cell_type": "code",
      "metadata": {
        "colab": {
          "base_uri": "https://localhost:8080/"
        },
        "id": "iyNKr6cssrkO",
        "outputId": "167d2c4b-81f8-4025-96a1-867076ed1b0c"
      },
      "source": [
        "serie_1.unique()"
      ],
      "execution_count": null,
      "outputs": [
        {
          "output_type": "execute_result",
          "data": {
            "text/plain": [
              "array(['Química', 'Matemáticas', 'Sociales'], dtype=object)"
            ]
          },
          "metadata": {},
          "execution_count": 16
        }
      ]
    },
    {
      "cell_type": "code",
      "metadata": {
        "colab": {
          "base_uri": "https://localhost:8080/"
        },
        "id": "oxBbeIJO1Eku",
        "outputId": "282e2a55-47af-4573-e04c-f847a4ec43af"
      },
      "source": [
        "serie_1.append(serie_2)"
      ],
      "execution_count": null,
      "outputs": [
        {
          "output_type": "execute_result",
          "data": {
            "text/plain": [
              "Maria         Química\n",
              "Juan      Matemáticas\n",
              "Carlos        Química\n",
              "Alison       Sociales\n",
              "Maria         Química\n",
              "Juan      Matemáticas\n",
              "Carlos        Química\n",
              "Alison           None\n",
              "dtype: object"
            ]
          },
          "metadata": {},
          "execution_count": 17
        }
      ]
    },
    {
      "cell_type": "code",
      "metadata": {
        "colab": {
          "base_uri": "https://localhost:8080/"
        },
        "id": "qAg2A5iJ1XCY",
        "outputId": "92d214f6-2048-4065-fbec-32933378cffb"
      },
      "source": [
        "serie_1.append(serie_2)['Carlos']"
      ],
      "execution_count": null,
      "outputs": [
        {
          "output_type": "execute_result",
          "data": {
            "text/plain": [
              "Carlos    Química\n",
              "Carlos    Química\n",
              "dtype: object"
            ]
          },
          "metadata": {},
          "execution_count": 18
        }
      ]
    },
    {
      "cell_type": "code",
      "metadata": {
        "colab": {
          "base_uri": "https://localhost:8080/"
        },
        "id": "Mn9YMA6m1daf",
        "outputId": "393871ea-d9a0-49cf-9f44-fa50500c6310"
      },
      "source": [
        "pegado = serie_1.append(serie_2)\n",
        "pegado.unique()"
      ],
      "execution_count": null,
      "outputs": [
        {
          "output_type": "execute_result",
          "data": {
            "text/plain": [
              "array(['Química', 'Matemáticas', 'Sociales', None], dtype=object)"
            ]
          },
          "metadata": {},
          "execution_count": 19
        }
      ]
    },
    {
      "cell_type": "code",
      "metadata": {
        "colab": {
          "base_uri": "https://localhost:8080/"
        },
        "id": "bvbjwOxg8IA0",
        "outputId": "92a46fcc-ea0e-414e-f0d5-ee6826b776ed"
      },
      "source": [
        "## Reemplazar un valor en un índice.\n",
        "pegado[\"Maria\"] = \"Artes\"\n",
        "pegado"
      ],
      "execution_count": null,
      "outputs": [
        {
          "output_type": "execute_result",
          "data": {
            "text/plain": [
              "Maria           Artes\n",
              "Juan      Matemáticas\n",
              "Carlos        Química\n",
              "Alison       Sociales\n",
              "Maria           Artes\n",
              "Juan      Matemáticas\n",
              "Carlos        Química\n",
              "Alison           None\n",
              "dtype: object"
            ]
          },
          "metadata": {},
          "execution_count": 20
        }
      ]
    },
    {
      "cell_type": "code",
      "metadata": {
        "colab": {
          "base_uri": "https://localhost:8080/"
        },
        "id": "Jzz87AUbCJMd",
        "outputId": "899f9764-fd5a-451c-b7a0-14679f7af843"
      },
      "source": [
        "## Eliminar un índice\n",
        "pegado.drop(\"Carlos\")"
      ],
      "execution_count": null,
      "outputs": [
        {
          "output_type": "execute_result",
          "data": {
            "text/plain": [
              "Maria           Artes\n",
              "Juan      Matemáticas\n",
              "Alison       Sociales\n",
              "Maria           Artes\n",
              "Juan      Matemáticas\n",
              "Alison           None\n",
              "dtype: object"
            ]
          },
          "metadata": {},
          "execution_count": 21
        }
      ]
    },
    {
      "cell_type": "code",
      "metadata": {
        "colab": {
          "base_uri": "https://localhost:8080/"
        },
        "id": "Sgk2R4l9CRSA",
        "outputId": "cbaf73a7-2557-410b-da91-045aa3b4833e"
      },
      "source": [
        "## Eliminar una lista de índices\n",
        "pegado.drop([\"Carlos\",\"Juan\"])"
      ],
      "execution_count": null,
      "outputs": [
        {
          "output_type": "execute_result",
          "data": {
            "text/plain": [
              "Maria        Artes\n",
              "Alison    Sociales\n",
              "Maria        Artes\n",
              "Alison        None\n",
              "dtype: object"
            ]
          },
          "metadata": {},
          "execution_count": 22
        }
      ]
    },
    {
      "cell_type": "code",
      "metadata": {
        "colab": {
          "base_uri": "https://localhost:8080/"
        },
        "id": "SzGEJmtoCrmy",
        "outputId": "52b87e4b-efab-41da-ad2c-415c8fb9606d"
      },
      "source": [
        "pegado"
      ],
      "execution_count": null,
      "outputs": [
        {
          "output_type": "execute_result",
          "data": {
            "text/plain": [
              "Maria           Artes\n",
              "Juan      Matemáticas\n",
              "Carlos        Química\n",
              "Alison       Sociales\n",
              "Maria           Artes\n",
              "Juan      Matemáticas\n",
              "Carlos        Química\n",
              "Alison           None\n",
              "dtype: object"
            ]
          },
          "metadata": {},
          "execution_count": 23
        }
      ]
    },
    {
      "cell_type": "code",
      "metadata": {
        "colab": {
          "base_uri": "https://localhost:8080/"
        },
        "id": "4qjrZk_rCwTR",
        "outputId": "d2f99119-6018-4cfb-b34d-a54d2ea6985b"
      },
      "source": [
        "## Ingresar un nuevo registro.\n",
        "pegado[\"Persona_sin_nombre\"] = \"Culinaría\"\n",
        "pegado"
      ],
      "execution_count": null,
      "outputs": [
        {
          "output_type": "execute_result",
          "data": {
            "text/plain": [
              "Maria                       Artes\n",
              "Juan                  Matemáticas\n",
              "Carlos                    Química\n",
              "Alison                   Sociales\n",
              "Maria                       Artes\n",
              "Juan                  Matemáticas\n",
              "Carlos                    Química\n",
              "Alison                       None\n",
              "Persona_sin_nombre      Culinaría\n",
              "dtype: object"
            ]
          },
          "metadata": {},
          "execution_count": 24
        }
      ]
    },
    {
      "cell_type": "code",
      "metadata": {
        "colab": {
          "base_uri": "https://localhost:8080/"
        },
        "id": "jSOhBm2VC_FH",
        "outputId": "8754fe3f-d9ff-4635-ff74-90a68f1587eb"
      },
      "source": [
        "## Eliminar los registros faltantes.\n",
        "pegado.dropna()"
      ],
      "execution_count": null,
      "outputs": [
        {
          "output_type": "execute_result",
          "data": {
            "text/plain": [
              "Maria                       Artes\n",
              "Juan                  Matemáticas\n",
              "Carlos                    Química\n",
              "Alison                   Sociales\n",
              "Maria                       Artes\n",
              "Juan                  Matemáticas\n",
              "Carlos                    Química\n",
              "Persona_sin_nombre      Culinaría\n",
              "dtype: object"
            ]
          },
          "metadata": {},
          "execution_count": 25
        }
      ]
    },
    {
      "cell_type": "code",
      "metadata": {
        "colab": {
          "base_uri": "https://localhost:8080/"
        },
        "id": "seEOBYR2DEMF",
        "outputId": "ab0ee3cd-39e9-438e-c30b-97985ea8c5b7"
      },
      "source": [
        "## Eliminar los registros duplicados (por default se queda con el primer registro encontrado.)\n",
        "pegado.drop_duplicates()"
      ],
      "execution_count": null,
      "outputs": [
        {
          "output_type": "execute_result",
          "data": {
            "text/plain": [
              "Maria                       Artes\n",
              "Juan                  Matemáticas\n",
              "Carlos                    Química\n",
              "Alison                   Sociales\n",
              "Alison                       None\n",
              "Persona_sin_nombre      Culinaría\n",
              "dtype: object"
            ]
          },
          "metadata": {},
          "execution_count": 26
        }
      ]
    },
    {
      "cell_type": "code",
      "metadata": {
        "colab": {
          "base_uri": "https://localhost:8080/"
        },
        "id": "dya8cxVSDJN3",
        "outputId": "2f7a741b-d528-4656-c363-ec1d2fc96f23"
      },
      "source": [
        "## Serie booleana\n",
        "pegado.isna()"
      ],
      "execution_count": null,
      "outputs": [
        {
          "output_type": "execute_result",
          "data": {
            "text/plain": [
              "Maria                 False\n",
              "Juan                  False\n",
              "Carlos                False\n",
              "Alison                False\n",
              "Maria                 False\n",
              "Juan                  False\n",
              "Carlos                False\n",
              "Alison                 True\n",
              "Persona_sin_nombre    False\n",
              "dtype: bool"
            ]
          },
          "metadata": {},
          "execution_count": 27
        }
      ]
    },
    {
      "cell_type": "markdown",
      "metadata": {
        "id": "99NHufrLsaDi"
      },
      "source": [
        "---\n",
        "## Dataframes.\n",
        "---\n",
        "\n",
        "DataFrame es el corazón de la biblioteca de `pandas`. La estructura de datos DataFrame es el objeto principal en el que se trabaja en el análisis de datos y tareas de limpieza.\n",
        "\n",
        "El DataFrame es conceptualmente un objeto de serie bidimensional, donde hay un índice y múltiples columnas, cada columna con una etiqueta. De hecho, la distinción entre una columna y una fila es realmente sólo una\n",
        "distinción conceptual. Un  DataFrame es una matriz etiquetada de dos ejes.\n"
      ]
    },
    {
      "cell_type": "code",
      "metadata": {
        "id": "i3itszYx3cbh"
      },
      "source": [
        "registro1 = pd.Series({\"Nombre\": 'Alicia',\n",
        "                     \"Asignatura\": 'Física',\n",
        "                     \"Puntuación\": 85})\n",
        "registro2 = pd.Series({'Nombre': 'Andrés',\n",
        "                       'Asignatura': 'Química',\n",
        "                       'Puntuación': 82})\n",
        "registro3 = pd.Series({'Nombre': 'Helen',\n",
        "                       \"Asignatura\": 'Biología',\n",
        "                       \"Puntuación\": 90})"
      ],
      "execution_count": null,
      "outputs": []
    },
    {
      "cell_type": "code",
      "metadata": {
        "colab": {
          "base_uri": "https://localhost:8080/",
          "height": 142
        },
        "id": "bZL6YZtI4Gzd",
        "outputId": "d94f5f88-8837-482b-9743-404b6fbe77f2"
      },
      "source": [
        "df = pd.DataFrame([registro1,registro2,registro3],\n",
        "             index=[\"estudiante1\",\"estudiante2\",\"estudiante3\"])\n",
        "df"
      ],
      "execution_count": null,
      "outputs": [
        {
          "output_type": "execute_result",
          "data": {
            "text/html": [
              "<div>\n",
              "<style scoped>\n",
              "    .dataframe tbody tr th:only-of-type {\n",
              "        vertical-align: middle;\n",
              "    }\n",
              "\n",
              "    .dataframe tbody tr th {\n",
              "        vertical-align: top;\n",
              "    }\n",
              "\n",
              "    .dataframe thead th {\n",
              "        text-align: right;\n",
              "    }\n",
              "</style>\n",
              "<table border=\"1\" class=\"dataframe\">\n",
              "  <thead>\n",
              "    <tr style=\"text-align: right;\">\n",
              "      <th></th>\n",
              "      <th>Nombre</th>\n",
              "      <th>Asignatura</th>\n",
              "      <th>Puntuación</th>\n",
              "    </tr>\n",
              "  </thead>\n",
              "  <tbody>\n",
              "    <tr>\n",
              "      <th>estudiante1</th>\n",
              "      <td>Alicia</td>\n",
              "      <td>Física</td>\n",
              "      <td>85</td>\n",
              "    </tr>\n",
              "    <tr>\n",
              "      <th>estudiante2</th>\n",
              "      <td>Andrés</td>\n",
              "      <td>Química</td>\n",
              "      <td>82</td>\n",
              "    </tr>\n",
              "    <tr>\n",
              "      <th>estudiante3</th>\n",
              "      <td>Helen</td>\n",
              "      <td>Biología</td>\n",
              "      <td>90</td>\n",
              "    </tr>\n",
              "  </tbody>\n",
              "</table>\n",
              "</div>"
            ],
            "text/plain": [
              "             Nombre Asignatura  Puntuación\n",
              "estudiante1  Alicia     Física          85\n",
              "estudiante2  Andrés    Química          82\n",
              "estudiante3   Helen   Biología          90"
            ]
          },
          "metadata": {},
          "execution_count": 29
        }
      ]
    },
    {
      "cell_type": "code",
      "metadata": {
        "colab": {
          "base_uri": "https://localhost:8080/"
        },
        "id": "zW_TZ4jr4xo2",
        "outputId": "1c99666c-dca7-4288-b57b-dcfb53182ba8"
      },
      "source": [
        "type(df)"
      ],
      "execution_count": null,
      "outputs": [
        {
          "output_type": "execute_result",
          "data": {
            "text/plain": [
              "pandas.core.frame.DataFrame"
            ]
          },
          "metadata": {},
          "execution_count": 30
        }
      ]
    },
    {
      "cell_type": "code",
      "metadata": {
        "colab": {
          "base_uri": "https://localhost:8080/",
          "height": 142
        },
        "id": "1b4aeqqp44z8",
        "outputId": "4674a108-c5a8-4c05-dd23-7828fc4396c3"
      },
      "source": [
        "# Podemos formar un dataframe apartir de una lista con diccionarios, cada uno será un registro del dataframe.\n",
        "estudiantes = [{'Nombre': 'Alicia',\"Asignatura\": 'Física', 'Puntuación': 85},\n",
        "               {'Nombre': 'Andrés',\"Asignatura\": 'Química', 'Puntuación': 82},\n",
        "               {'Nombre': 'Helen',\"Asignatura\": 'Biología', 'Puntuación': 90}]\n",
        "pd.DataFrame(estudiantes, index=[\"estudiante1\",\"estudiante2\",\"estudiante3\"])"
      ],
      "execution_count": null,
      "outputs": [
        {
          "output_type": "execute_result",
          "data": {
            "text/html": [
              "<div>\n",
              "<style scoped>\n",
              "    .dataframe tbody tr th:only-of-type {\n",
              "        vertical-align: middle;\n",
              "    }\n",
              "\n",
              "    .dataframe tbody tr th {\n",
              "        vertical-align: top;\n",
              "    }\n",
              "\n",
              "    .dataframe thead th {\n",
              "        text-align: right;\n",
              "    }\n",
              "</style>\n",
              "<table border=\"1\" class=\"dataframe\">\n",
              "  <thead>\n",
              "    <tr style=\"text-align: right;\">\n",
              "      <th></th>\n",
              "      <th>Nombre</th>\n",
              "      <th>Asignatura</th>\n",
              "      <th>Puntuación</th>\n",
              "    </tr>\n",
              "  </thead>\n",
              "  <tbody>\n",
              "    <tr>\n",
              "      <th>estudiante1</th>\n",
              "      <td>Alicia</td>\n",
              "      <td>Física</td>\n",
              "      <td>85</td>\n",
              "    </tr>\n",
              "    <tr>\n",
              "      <th>estudiante2</th>\n",
              "      <td>Andrés</td>\n",
              "      <td>Química</td>\n",
              "      <td>82</td>\n",
              "    </tr>\n",
              "    <tr>\n",
              "      <th>estudiante3</th>\n",
              "      <td>Helen</td>\n",
              "      <td>Biología</td>\n",
              "      <td>90</td>\n",
              "    </tr>\n",
              "  </tbody>\n",
              "</table>\n",
              "</div>"
            ],
            "text/plain": [
              "             Nombre Asignatura  Puntuación\n",
              "estudiante1  Alicia     Física          85\n",
              "estudiante2  Andrés    Química          82\n",
              "estudiante3   Helen   Biología          90"
            ]
          },
          "metadata": {},
          "execution_count": 31
        }
      ]
    },
    {
      "cell_type": "code",
      "metadata": {
        "colab": {
          "base_uri": "https://localhost:8080/"
        },
        "id": "Q5WouLhE58em",
        "outputId": "e566f9fc-f368-4769-8b63-0e17eed1bb4d"
      },
      "source": [
        "pd.Series({'Nombre': 'Alicia',\"Asignatura\": 'Física', 'Puntuación': 85})"
      ],
      "execution_count": null,
      "outputs": [
        {
          "output_type": "execute_result",
          "data": {
            "text/plain": [
              "Nombre        Alicia\n",
              "Asignatura    Física\n",
              "Puntuación        85\n",
              "dtype: object"
            ]
          },
          "metadata": {},
          "execution_count": 32
        }
      ]
    },
    {
      "cell_type": "code",
      "metadata": {
        "colab": {
          "base_uri": "https://localhost:8080/",
          "height": 142
        },
        "id": "lw8NEVF54tMm",
        "outputId": "aae5adbc-f8c5-415c-c21f-0c72a81d959a"
      },
      "source": [
        "pd.DataFrame(estudiantes)"
      ],
      "execution_count": null,
      "outputs": [
        {
          "output_type": "execute_result",
          "data": {
            "text/html": [
              "<div>\n",
              "<style scoped>\n",
              "    .dataframe tbody tr th:only-of-type {\n",
              "        vertical-align: middle;\n",
              "    }\n",
              "\n",
              "    .dataframe tbody tr th {\n",
              "        vertical-align: top;\n",
              "    }\n",
              "\n",
              "    .dataframe thead th {\n",
              "        text-align: right;\n",
              "    }\n",
              "</style>\n",
              "<table border=\"1\" class=\"dataframe\">\n",
              "  <thead>\n",
              "    <tr style=\"text-align: right;\">\n",
              "      <th></th>\n",
              "      <th>Nombre</th>\n",
              "      <th>Asignatura</th>\n",
              "      <th>Puntuación</th>\n",
              "    </tr>\n",
              "  </thead>\n",
              "  <tbody>\n",
              "    <tr>\n",
              "      <th>0</th>\n",
              "      <td>Alicia</td>\n",
              "      <td>Física</td>\n",
              "      <td>85</td>\n",
              "    </tr>\n",
              "    <tr>\n",
              "      <th>1</th>\n",
              "      <td>Andrés</td>\n",
              "      <td>Química</td>\n",
              "      <td>82</td>\n",
              "    </tr>\n",
              "    <tr>\n",
              "      <th>2</th>\n",
              "      <td>Helen</td>\n",
              "      <td>Biología</td>\n",
              "      <td>90</td>\n",
              "    </tr>\n",
              "  </tbody>\n",
              "</table>\n",
              "</div>"
            ],
            "text/plain": [
              "   Nombre Asignatura  Puntuación\n",
              "0  Alicia     Física          85\n",
              "1  Andrés    Química          82\n",
              "2   Helen   Biología          90"
            ]
          },
          "metadata": {},
          "execution_count": 33
        }
      ]
    },
    {
      "cell_type": "code",
      "metadata": {
        "colab": {
          "base_uri": "https://localhost:8080/",
          "height": 173
        },
        "id": "aIJ_4mXfFHXB",
        "outputId": "981d4d73-7379-4ace-f53c-bfef65daee3b"
      },
      "source": [
        "df['Nueva'] = 50\n",
        "df.append({\"Nombre\":\"Luisa\",\"Asignatura\":\"Artes\",\"Puntuación\":\"100\",\"Nueva\":\"45\"},ignore_index=True)"
      ],
      "execution_count": null,
      "outputs": [
        {
          "output_type": "execute_result",
          "data": {
            "text/html": [
              "<div>\n",
              "<style scoped>\n",
              "    .dataframe tbody tr th:only-of-type {\n",
              "        vertical-align: middle;\n",
              "    }\n",
              "\n",
              "    .dataframe tbody tr th {\n",
              "        vertical-align: top;\n",
              "    }\n",
              "\n",
              "    .dataframe thead th {\n",
              "        text-align: right;\n",
              "    }\n",
              "</style>\n",
              "<table border=\"1\" class=\"dataframe\">\n",
              "  <thead>\n",
              "    <tr style=\"text-align: right;\">\n",
              "      <th></th>\n",
              "      <th>Nombre</th>\n",
              "      <th>Asignatura</th>\n",
              "      <th>Puntuación</th>\n",
              "      <th>Nueva</th>\n",
              "    </tr>\n",
              "  </thead>\n",
              "  <tbody>\n",
              "    <tr>\n",
              "      <th>0</th>\n",
              "      <td>Alicia</td>\n",
              "      <td>Física</td>\n",
              "      <td>85</td>\n",
              "      <td>50</td>\n",
              "    </tr>\n",
              "    <tr>\n",
              "      <th>1</th>\n",
              "      <td>Andrés</td>\n",
              "      <td>Química</td>\n",
              "      <td>82</td>\n",
              "      <td>50</td>\n",
              "    </tr>\n",
              "    <tr>\n",
              "      <th>2</th>\n",
              "      <td>Helen</td>\n",
              "      <td>Biología</td>\n",
              "      <td>90</td>\n",
              "      <td>50</td>\n",
              "    </tr>\n",
              "    <tr>\n",
              "      <th>3</th>\n",
              "      <td>Luisa</td>\n",
              "      <td>Artes</td>\n",
              "      <td>100</td>\n",
              "      <td>45</td>\n",
              "    </tr>\n",
              "  </tbody>\n",
              "</table>\n",
              "</div>"
            ],
            "text/plain": [
              "   Nombre Asignatura Puntuación Nueva\n",
              "0  Alicia     Física         85    50\n",
              "1  Andrés    Química         82    50\n",
              "2   Helen   Biología         90    50\n",
              "3   Luisa      Artes        100    45"
            ]
          },
          "metadata": {},
          "execution_count": 34
        }
      ]
    },
    {
      "cell_type": "code",
      "metadata": {
        "colab": {
          "base_uri": "https://localhost:8080/",
          "height": 235
        },
        "id": "mcXk_EGtF8s0",
        "outputId": "1aeb3268-3ad7-4aba-cc0d-5cb02e9c1d22"
      },
      "source": [
        "df.append(df)"
      ],
      "execution_count": null,
      "outputs": [
        {
          "output_type": "execute_result",
          "data": {
            "text/html": [
              "<div>\n",
              "<style scoped>\n",
              "    .dataframe tbody tr th:only-of-type {\n",
              "        vertical-align: middle;\n",
              "    }\n",
              "\n",
              "    .dataframe tbody tr th {\n",
              "        vertical-align: top;\n",
              "    }\n",
              "\n",
              "    .dataframe thead th {\n",
              "        text-align: right;\n",
              "    }\n",
              "</style>\n",
              "<table border=\"1\" class=\"dataframe\">\n",
              "  <thead>\n",
              "    <tr style=\"text-align: right;\">\n",
              "      <th></th>\n",
              "      <th>Nombre</th>\n",
              "      <th>Asignatura</th>\n",
              "      <th>Puntuación</th>\n",
              "      <th>Nueva</th>\n",
              "    </tr>\n",
              "  </thead>\n",
              "  <tbody>\n",
              "    <tr>\n",
              "      <th>estudiante1</th>\n",
              "      <td>Alicia</td>\n",
              "      <td>Física</td>\n",
              "      <td>85</td>\n",
              "      <td>50</td>\n",
              "    </tr>\n",
              "    <tr>\n",
              "      <th>estudiante2</th>\n",
              "      <td>Andrés</td>\n",
              "      <td>Química</td>\n",
              "      <td>82</td>\n",
              "      <td>50</td>\n",
              "    </tr>\n",
              "    <tr>\n",
              "      <th>estudiante3</th>\n",
              "      <td>Helen</td>\n",
              "      <td>Biología</td>\n",
              "      <td>90</td>\n",
              "      <td>50</td>\n",
              "    </tr>\n",
              "    <tr>\n",
              "      <th>estudiante1</th>\n",
              "      <td>Alicia</td>\n",
              "      <td>Física</td>\n",
              "      <td>85</td>\n",
              "      <td>50</td>\n",
              "    </tr>\n",
              "    <tr>\n",
              "      <th>estudiante2</th>\n",
              "      <td>Andrés</td>\n",
              "      <td>Química</td>\n",
              "      <td>82</td>\n",
              "      <td>50</td>\n",
              "    </tr>\n",
              "    <tr>\n",
              "      <th>estudiante3</th>\n",
              "      <td>Helen</td>\n",
              "      <td>Biología</td>\n",
              "      <td>90</td>\n",
              "      <td>50</td>\n",
              "    </tr>\n",
              "  </tbody>\n",
              "</table>\n",
              "</div>"
            ],
            "text/plain": [
              "             Nombre Asignatura  Puntuación  Nueva\n",
              "estudiante1  Alicia     Física          85     50\n",
              "estudiante2  Andrés    Química          82     50\n",
              "estudiante3   Helen   Biología          90     50\n",
              "estudiante1  Alicia     Física          85     50\n",
              "estudiante2  Andrés    Química          82     50\n",
              "estudiante3   Helen   Biología          90     50"
            ]
          },
          "metadata": {},
          "execution_count": 35
        }
      ]
    },
    {
      "cell_type": "code",
      "metadata": {
        "colab": {
          "base_uri": "https://localhost:8080/"
        },
        "id": "BjiptPIXHDSZ",
        "outputId": "7a07a6a5-48be-4a86-8560-36db4db05255"
      },
      "source": [
        "df.shape"
      ],
      "execution_count": null,
      "outputs": [
        {
          "output_type": "execute_result",
          "data": {
            "text/plain": [
              "(3, 4)"
            ]
          },
          "metadata": {},
          "execution_count": 36
        }
      ]
    },
    {
      "cell_type": "markdown",
      "metadata": {
        "id": "_a9Igx1DAGoG"
      },
      "source": [
        "---\n",
        "## Conclusiones:\n",
        "---\n",
        "\n",
        "Revisamos como importar la librería `pandas`. Se conocieron los objetos de datos: `serie` y `dataframe`. Para cada uno de ellos se mostró la forma de construirlos y algunas consultas básica."
      ]
    }
  ]
}
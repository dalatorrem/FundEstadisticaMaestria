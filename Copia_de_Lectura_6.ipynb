{
  "cells": [
    {
      "cell_type": "markdown",
      "metadata": {
        "id": "view-in-github",
        "colab_type": "text"
      },
      "source": [
        "<a href=\"https://colab.research.google.com/github/dalatorrem/FundEstadisticaMaestria/blob/main/Copia_de_Lectura_6.ipynb\" target=\"_parent\"><img src=\"https://colab.research.google.com/assets/colab-badge.svg\" alt=\"Open In Colab\"/></a>"
      ]
    },
    {
      "cell_type": "markdown",
      "metadata": {
        "id": "B2EQ3BNBXrPu"
      },
      "source": [
        "![identificadores_centrados_en_ti_logo-h.png](data:image/png;base64,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)"
      ]
    },
    {
      "cell_type": "markdown",
      "metadata": {
        "id": "xRSVeik_ISjD"
      },
      "source": [
        "---\n",
        "# Librería `numpy`\n",
        "---\n",
        "`numpy` es una librería numérica de **Python** la cual será de frecuente uso. Sus propias funciones, así como el hecho que muchas librerías de **Python** estén basadas en ella, la hacen parte fundamental de la ciencía de datos. Se destaca por su velocidad y las operaciones matemáticas sobre colecciones que con ella se pueden desarrollar.\n",
        "\n",
        "Más información [aquí.](https://numpy.org/doc/stable/index.html)"
      ]
    },
    {
      "cell_type": "markdown",
      "metadata": {
        "id": "lSS57A0JLUgw"
      },
      "source": [
        "Consideremos las siguiente listas de 5 estaturas (en metros) y pesos (en kilogramos)."
      ]
    },
    {
      "cell_type": "code",
      "execution_count": null,
      "metadata": {
        "id": "gEKbd7AGLtBT"
      },
      "outputs": [],
      "source": [
        "estatura = [1.73, 1.68, 1.71, 1.89, 1.79]\n",
        "peso = [65.4, 59.2, 63.6, 88.4, 68.7]"
      ]
    },
    {
      "cell_type": "markdown",
      "metadata": {
        "id": "k9maV7KNMBh6"
      },
      "source": [
        "El índice de masa corporal se define como:\n",
        "\n",
        "\n",
        "$$IMC=\\frac{peso}{estatura^{2}}$$"
      ]
    },
    {
      "cell_type": "code",
      "execution_count": null,
      "metadata": {
        "id": "UnJ3VbCrMho6"
      },
      "outputs": [],
      "source": [
        "#estatura/peso**2"
      ]
    },
    {
      "cell_type": "code",
      "execution_count": null,
      "metadata": {
        "id": "8ApLP7lirL6x"
      },
      "outputs": [],
      "source": [
        "# Instalación numpy\n",
        "# !pip install numpy"
      ]
    },
    {
      "cell_type": "code",
      "execution_count": null,
      "metadata": {
        "colab": {
          "base_uri": "https://localhost:8080/"
        },
        "id": "onblHI7jMsoW",
        "outputId": "a39a1490-4496-41b3-9840-c450baed6d90"
      },
      "outputs": [
        {
          "name": "stdout",
          "output_type": "stream",
          "text": [
            "<class 'numpy.ndarray'>\n",
            "(5,)\n"
          ]
        },
        {
          "data": {
            "text/plain": [
              "array([1.73, 1.68, 1.71, 1.89, 1.79])"
            ]
          },
          "execution_count": 4,
          "metadata": {},
          "output_type": "execute_result"
        }
      ],
      "source": [
        "## Importamos la librería\n",
        "import numpy as np\n",
        "\n",
        "np_estatura = np.array(estatura)\n",
        "print(type(np_estatura))\n",
        "print(np_estatura.shape)\n",
        "np_estatura"
      ]
    },
    {
      "cell_type": "code",
      "execution_count": null,
      "metadata": {
        "colab": {
          "base_uri": "https://localhost:8080/"
        },
        "id": "IPFLJmejM5TT",
        "outputId": "9b66390d-adf7-4934-cce4-b13e9489a62a"
      },
      "outputs": [
        {
          "data": {
            "text/plain": [
              "array([65.4, 59.2, 63.6, 88.4, 68.7])"
            ]
          },
          "execution_count": 5,
          "metadata": {},
          "output_type": "execute_result"
        }
      ],
      "source": [
        "np_peso = np.array(peso)\n",
        "np_peso"
      ]
    },
    {
      "cell_type": "code",
      "execution_count": null,
      "metadata": {
        "id": "F1apCto9rL6z",
        "outputId": "61091b2f-18a0-4839-fe77-e06ce1e39c63"
      },
      "outputs": [
        {
          "name": "stdout",
          "output_type": "stream",
          "text": [
            "[1.73 1.68 1.71 1.89 1.79]\n",
            "[2.9929 2.8224 2.9241 3.5721 3.2041]\n"
          ]
        }
      ],
      "source": [
        "print(np_estatura)\n",
        "print(np_estatura**2)"
      ]
    },
    {
      "cell_type": "code",
      "execution_count": null,
      "metadata": {
        "colab": {
          "base_uri": "https://localhost:8080/"
        },
        "id": "ul1q-pINNBp7",
        "outputId": "9a668448-2551-4a48-9e27-7142577a9d23"
      },
      "outputs": [
        {
          "data": {
            "text/plain": [
              "array([21.85171573, 20.97505669, 21.75028214, 24.7473475 , 21.44127836])"
            ]
          },
          "execution_count": 7,
          "metadata": {},
          "output_type": "execute_result"
        }
      ],
      "source": [
        "imc = np_peso/np_estatura**2; imc"
      ]
    },
    {
      "cell_type": "code",
      "execution_count": null,
      "metadata": {
        "id": "VjFbvxm7NXs1"
      },
      "outputs": [],
      "source": [
        "lista = [1,2,3]\n",
        "np_lista = np.array([1,2,3],)"
      ]
    },
    {
      "cell_type": "code",
      "execution_count": null,
      "metadata": {
        "colab": {
          "base_uri": "https://localhost:8080/"
        },
        "id": "zF3CIC0dNgcf",
        "outputId": "621ec1f0-3cc0-4180-a70b-eefbd91b5d6b"
      },
      "outputs": [
        {
          "data": {
            "text/plain": [
              "[1, 2, 3, 1, 2, 3]"
            ]
          },
          "execution_count": 9,
          "metadata": {},
          "output_type": "execute_result"
        }
      ],
      "source": [
        "## Suma de listas\n",
        "lista + lista"
      ]
    },
    {
      "cell_type": "code",
      "execution_count": null,
      "metadata": {
        "colab": {
          "base_uri": "https://localhost:8080/"
        },
        "id": "w5rVD2NYN_M_",
        "outputId": "3332cd40-9ba9-44b9-fe5f-34db18e8db90"
      },
      "outputs": [
        {
          "data": {
            "text/plain": [
              "array([2, 4, 6])"
            ]
          },
          "execution_count": 10,
          "metadata": {},
          "output_type": "execute_result"
        }
      ],
      "source": [
        "## Suma de arrays\n",
        "np_lista+np_lista"
      ]
    },
    {
      "cell_type": "markdown",
      "metadata": {
        "id": "Gmt2KCS0ORL7"
      },
      "source": [
        "## Subconjuntos en `numpy`"
      ]
    },
    {
      "cell_type": "code",
      "execution_count": null,
      "metadata": {
        "colab": {
          "base_uri": "https://localhost:8080/"
        },
        "id": "_-vQP8JNOXje",
        "outputId": "eaf30920-0e68-4e7c-d545-7f98b6d69708"
      },
      "outputs": [
        {
          "data": {
            "text/plain": [
              "array([21.85171573, 20.97505669, 21.75028214, 24.7473475 , 21.44127836])"
            ]
          },
          "execution_count": 11,
          "metadata": {},
          "output_type": "execute_result"
        }
      ],
      "source": [
        "imc"
      ]
    },
    {
      "cell_type": "code",
      "execution_count": null,
      "metadata": {
        "colab": {
          "base_uri": "https://localhost:8080/"
        },
        "id": "SDqyyWxHOZuV",
        "outputId": "6e942cd8-f5e4-41d9-9635-895beeb6dba5"
      },
      "outputs": [
        {
          "data": {
            "text/plain": [
              "21.44127836209856"
            ]
          },
          "execution_count": 12,
          "metadata": {},
          "output_type": "execute_result"
        }
      ],
      "source": [
        "imc[-1]"
      ]
    },
    {
      "cell_type": "code",
      "execution_count": null,
      "metadata": {
        "colab": {
          "base_uri": "https://localhost:8080/"
        },
        "id": "sdrQO4kwOcsr",
        "outputId": "59a10675-485c-4955-e602-2a776c801cad"
      },
      "outputs": [
        {
          "data": {
            "text/plain": [
              "array([False, False, False,  True, False])"
            ]
          },
          "execution_count": 13,
          "metadata": {},
          "output_type": "execute_result"
        }
      ],
      "source": [
        "imc > 23"
      ]
    },
    {
      "cell_type": "code",
      "execution_count": null,
      "metadata": {
        "colab": {
          "base_uri": "https://localhost:8080/"
        },
        "id": "ZWaXjENLOg3_",
        "outputId": "7faeb016-9801-4e51-9cb7-df060c7db07d"
      },
      "outputs": [
        {
          "name": "stdout",
          "output_type": "stream",
          "text": [
            "[21.85171573 20.97505669 21.75028214 24.7473475  21.44127836]\n"
          ]
        },
        {
          "data": {
            "text/plain": [
              "array([24.7473475])"
            ]
          },
          "execution_count": 14,
          "metadata": {},
          "output_type": "execute_result"
        }
      ],
      "source": [
        "print(imc)\n",
        "imc[imc>23]"
      ]
    },
    {
      "cell_type": "code",
      "execution_count": null,
      "metadata": {
        "colab": {
          "base_uri": "https://localhost:8080/"
        },
        "id": "tKIedqiYOpN1",
        "outputId": "4f665051-8977-4ebf-f8fb-8366c72983a2"
      },
      "outputs": [
        {
          "name": "stdout",
          "output_type": "stream",
          "text": [
            "[21.85171573 20.97505669 21.75028214 24.7473475  21.44127836]\n",
            "21.85171572722109\n",
            "<class 'numpy.float64'>\n",
            "20.97505668934241\n",
            "<class 'numpy.float64'>\n",
            "21.750282138093777\n",
            "<class 'numpy.float64'>\n",
            "24.74734749867025\n",
            "<class 'numpy.float64'>\n",
            "21.44127836209856\n",
            "<class 'numpy.float64'>\n"
          ]
        }
      ],
      "source": [
        "## Es iterable\n",
        "print(imc)\n",
        "for i in imc:\n",
        "  print(i)\n",
        "  print(type(i))"
      ]
    },
    {
      "cell_type": "code",
      "execution_count": null,
      "metadata": {
        "id": "Yn0HShBvrL64",
        "outputId": "55250f51-92be-4eb6-afd3-ecf0479ea706"
      },
      "outputs": [
        {
          "data": {
            "text/plain": [
              "array(['21.85171572722109', '20.97505668934241', '21.750282138093777',\n",
              "       '24.74734749867025', '21.44127836209856'], dtype='<U32')"
            ]
          },
          "execution_count": 16,
          "metadata": {},
          "output_type": "execute_result"
        }
      ],
      "source": [
        "imc_string = imc.astype(str); imc_string"
      ]
    },
    {
      "cell_type": "markdown",
      "metadata": {
        "id": "efSKypTfrL64"
      },
      "source": [
        "### Comentario"
      ]
    },
    {
      "cell_type": "code",
      "execution_count": null,
      "metadata": {
        "id": "mvIVlEfhrL64",
        "outputId": "cab1d614-0158-4435-eb91-f725e30e76ad"
      },
      "outputs": [
        {
          "data": {
            "text/plain": [
              "dtype('bool')"
            ]
          },
          "execution_count": 17,
          "metadata": {},
          "output_type": "execute_result"
        }
      ],
      "source": [
        "prueba_np = np.array([True, True, False, False])\n",
        "prueba_np.dtype"
      ]
    },
    {
      "cell_type": "code",
      "execution_count": null,
      "metadata": {
        "id": "sXGkBOSXrL65",
        "outputId": "a9d67cb1-46e8-4bed-9cf1-55f570365edb"
      },
      "outputs": [
        {
          "data": {
            "text/plain": [
              "dtype('int64')"
            ]
          },
          "execution_count": 18,
          "metadata": {},
          "output_type": "execute_result"
        }
      ],
      "source": [
        "prueba_np1 = np.array([1, True, 2, False])\n",
        "prueba_np1.dtype"
      ]
    },
    {
      "cell_type": "code",
      "execution_count": null,
      "metadata": {
        "id": "l1Zs4kQGrL66",
        "outputId": "5946d9a9-9714-4715-9707-c8469f94acf7"
      },
      "outputs": [
        {
          "data": {
            "text/plain": [
              "dtype('float64')"
            ]
          },
          "execution_count": 19,
          "metadata": {},
          "output_type": "execute_result"
        }
      ],
      "source": [
        "prueba_np2 = np.array([1, True, 3, np.pi])\n",
        "prueba_np2.dtype"
      ]
    },
    {
      "cell_type": "code",
      "execution_count": null,
      "metadata": {
        "id": "jdcJJ-xArL67",
        "outputId": "ae4ee42c-7982-4aec-ba5b-c5576bfa1628"
      },
      "outputs": [
        {
          "data": {
            "text/plain": [
              "dtype('<U32')"
            ]
          },
          "execution_count": 20,
          "metadata": {},
          "output_type": "execute_result"
        }
      ],
      "source": [
        "prueba_np3 = np.array([1, True, 'hola', np.pi])\n",
        "prueba_np3.dtype"
      ]
    },
    {
      "cell_type": "markdown",
      "metadata": {
        "id": "y4tRF17HPuCN"
      },
      "source": [
        "## Ejercicio 1.\n",
        "\n",
        "Importe el paquete `numpy` como `np`, cree un `np.array()` que será un arreglo numérico de la siguiente lista, imprima el arreglo y el tipo de dato.\n",
        "\n",
        "~~~python\n",
        "ciclismo = [180, 215, 210, 210, 188, 176, 209, 200]\n",
        "~~~\n"
      ]
    },
    {
      "cell_type": "markdown",
      "metadata": {
        "id": "ITxKBm10Tx-L"
      },
      "source": [
        "**Respuesta.**"
      ]
    },
    {
      "cell_type": "code",
      "execution_count": null,
      "metadata": {
        "colab": {
          "base_uri": "https://localhost:8080/"
        },
        "id": "F-1ogLTqQuvr",
        "outputId": "e8f66ce1-46f4-464c-9504-d4a53da849a5"
      },
      "outputs": [
        {
          "name": "stdout",
          "output_type": "stream",
          "text": [
            "[180 215 210 210 188 176 209 200]\n",
            "<class 'numpy.ndarray'>\n"
          ]
        }
      ],
      "source": [
        "## Acá su código\n",
        "import numpy as np\n",
        "ciclismo = [180, 215, 210, 210, 188, 176, 209, 200]\n",
        "np_ciclismo = np.array(ciclismo)\n",
        "print(np_ciclismo)\n",
        "print(type(np_ciclismo))"
      ]
    },
    {
      "cell_type": "markdown",
      "metadata": {
        "id": "FzwPpn6SSRRA"
      },
      "source": [
        "## Ejercicio 2\n",
        "\n",
        "Transforme las estaturas a pulgadas dividiendo por 0.0254."
      ]
    },
    {
      "cell_type": "markdown",
      "metadata": {
        "id": "YoCxYoJ9Q_0A"
      },
      "source": [
        "**Respuesta:**"
      ]
    },
    {
      "cell_type": "code",
      "execution_count": null,
      "metadata": {
        "id": "CeHq2i3orL69",
        "outputId": "821495db-49e6-4fbe-a017-83337e377964"
      },
      "outputs": [
        {
          "data": {
            "text/plain": [
              "array([1.73, 1.68, 1.71, 1.89, 1.79])"
            ]
          },
          "execution_count": 22,
          "metadata": {},
          "output_type": "execute_result"
        }
      ],
      "source": [
        "np_estatura"
      ]
    },
    {
      "cell_type": "code",
      "execution_count": null,
      "metadata": {
        "colab": {
          "base_uri": "https://localhost:8080/"
        },
        "id": "uvVrTwUtTN65",
        "outputId": "1147efd1-ac0e-43fa-d16e-24f7b5c0c7c6"
      },
      "outputs": [
        {
          "data": {
            "text/plain": [
              "array([68.11023622, 66.14173228, 67.32283465, 74.40944882, 70.47244094])"
            ]
          },
          "execution_count": 23,
          "metadata": {},
          "output_type": "execute_result"
        }
      ],
      "source": [
        "## Su código acá\n",
        "pulgadas = np_estatura/0.0254\n",
        "pulgadas"
      ]
    },
    {
      "cell_type": "markdown",
      "metadata": {
        "id": "QfKAiIHmUFjg"
      },
      "source": [
        "## Ejercicio 3\n",
        "\n",
        "Creamos alturas y pesos:\n",
        "~~~python\n",
        "mis_pesos = np.random.normal(70.5,20,10)\n",
        "mis_alturas = np.random.normal(1.60,10,10)\n",
        "~~~\n",
        "Calcular el imc."
      ]
    },
    {
      "cell_type": "markdown",
      "metadata": {
        "id": "24Ztp9bwRKTS"
      },
      "source": [
        "**Respuesta**"
      ]
    },
    {
      "cell_type": "code",
      "execution_count": null,
      "metadata": {
        "id": "Htg3lsVJUR4M"
      },
      "outputs": [],
      "source": [
        "## Su código acá\n",
        "np.random.seed(123)\n",
        "mis_pesos = np.random.normal(70.5, 20, 10)\n",
        "mis_alturas = np.random.normal(1.70, 0.1, 10)"
      ]
    },
    {
      "cell_type": "code",
      "execution_count": null,
      "metadata": {
        "colab": {
          "base_uri": "https://localhost:8080/"
        },
        "id": "r7IhS-j8WrEo",
        "outputId": "8e6d1a71-7781-45c5-b456-ca30abef876b"
      },
      "outputs": [
        {
          "data": {
            "text/plain": [
              "array([1.63211138, 1.6905291 , 1.84913896, 1.6361098 , 1.6556018 ,\n",
              "       1.65656487, 1.92059301, 1.91867861, 1.80040539, 1.73861864])"
            ]
          },
          "execution_count": 25,
          "metadata": {},
          "output_type": "execute_result"
        }
      ],
      "source": [
        "mis_alturas"
      ]
    },
    {
      "cell_type": "markdown",
      "metadata": {
        "id": "WUQ46fTuar_M"
      },
      "source": [
        "---\n",
        "## `n-numpy arrays`\n",
        "---"
      ]
    },
    {
      "cell_type": "markdown",
      "metadata": {
        "id": "APqCun6aa8Lx"
      },
      "source": [
        "Los `numpy arrays` son arreglos numéricos similares a las matrices."
      ]
    },
    {
      "cell_type": "code",
      "execution_count": null,
      "metadata": {
        "colab": {
          "base_uri": "https://localhost:8080/"
        },
        "id": "G3QwvW5abuG8",
        "outputId": "6b0b79b4-2f3f-4b8f-eb9a-25e37a6b69f4"
      },
      "outputs": [
        {
          "name": "stdout",
          "output_type": "stream",
          "text": [
            "[10 20 25 30 60]\n"
          ]
        },
        {
          "data": {
            "text/plain": [
              "(5,)"
            ]
          },
          "execution_count": 26,
          "metadata": {},
          "output_type": "execute_result"
        }
      ],
      "source": [
        "np_1d = np.array([10,20,25,30,60])\n",
        "print(np_1d)\n",
        "np_1d.shape"
      ]
    },
    {
      "cell_type": "code",
      "execution_count": null,
      "metadata": {
        "colab": {
          "base_uri": "https://localhost:8080/"
        },
        "id": "bibXPOjjb4Lu",
        "outputId": "f097c42f-f0ef-490d-f56c-cfd5654c1eba"
      },
      "outputs": [
        {
          "data": {
            "text/plain": [
              "(numpy.ndarray, (5,))"
            ]
          },
          "execution_count": 27,
          "metadata": {},
          "output_type": "execute_result"
        }
      ],
      "source": [
        "## Arreglo de 5 entradas (se puede ver como un vector)\n",
        "type(np_1d), np_1d.shape"
      ]
    },
    {
      "cell_type": "code",
      "execution_count": null,
      "metadata": {
        "colab": {
          "base_uri": "https://localhost:8080/"
        },
        "id": "O0JAiqTYXs_W",
        "outputId": "0253e2a7-9b68-4d42-ad9b-cce6a070fc22"
      },
      "outputs": [
        {
          "data": {
            "text/plain": [
              "array([[ 1.73,  1.68,  1.71,  1.89,  1.79],\n",
              "       [65.4 , 59.2 , 63.6 , 88.4 , 68.7 ]])"
            ]
          },
          "execution_count": 28,
          "metadata": {},
          "output_type": "execute_result"
        }
      ],
      "source": [
        "## Arreglo de 2 dimensiones (se pueden considerar como matrices)\n",
        "np_2d = np.array([\n",
        "    [1.73, 1.68, 1.71, 1.89, 1.79],\n",
        "    [65.4, 59.2, 63.6, 88.4, 68.7]\n",
        "    ])\n",
        "np_2d"
      ]
    },
    {
      "cell_type": "code",
      "execution_count": null,
      "metadata": {
        "colab": {
          "base_uri": "https://localhost:8080/"
        },
        "id": "79CGiR0AX5zK",
        "outputId": "64f1fc5b-eef5-4b0f-f1ab-a92450e2bdbe"
      },
      "outputs": [
        {
          "data": {
            "text/plain": [
              "(numpy.ndarray, (2, 5))"
            ]
          },
          "execution_count": 29,
          "metadata": {},
          "output_type": "execute_result"
        }
      ],
      "source": [
        "type(np_2d), np_2d.shape"
      ]
    },
    {
      "cell_type": "code",
      "execution_count": null,
      "metadata": {
        "colab": {
          "base_uri": "https://localhost:8080/"
        },
        "id": "-90nkTuTej-s",
        "outputId": "495e277a-df7e-47aa-c0f9-8783f934b701"
      },
      "outputs": [
        {
          "data": {
            "text/plain": [
              "array([['1.73', '1.68', '1.71', '1.89', '1.79'],\n",
              "       ['65.4', '59.2', '63.6', '88.4', '68.7']], dtype='<U32')"
            ]
          },
          "execution_count": 30,
          "metadata": {},
          "output_type": "execute_result"
        }
      ],
      "source": [
        "## Debe tener el mismo tipo de dato.\n",
        "np.array([\n",
        "    [1.73, 1.68, 1.71, 1.89, 1.79],\n",
        "    [65.4, 59.2, 63.6, 88.4, '68.7']\n",
        "    ])"
      ]
    },
    {
      "cell_type": "code",
      "execution_count": null,
      "metadata": {
        "id": "Jy_Gjh2-rL7A",
        "outputId": "39cc92c4-cd74-44e2-c5d7-867b793c78a3"
      },
      "outputs": [
        {
          "data": {
            "text/plain": [
              "array([[ 1.73,  1.68,  1.71,  1.89,  1.79],\n",
              "       [65.4 , 59.2 , 63.6 , 88.4 , 68.7 ]])"
            ]
          },
          "execution_count": 31,
          "metadata": {},
          "output_type": "execute_result"
        }
      ],
      "source": [
        "np_2d"
      ]
    },
    {
      "cell_type": "code",
      "execution_count": null,
      "metadata": {
        "colab": {
          "base_uri": "https://localhost:8080/"
        },
        "id": "pt3rcqnnepUe",
        "outputId": "9e00fcd9-4bde-4d34-a442-0e60ec7ab45a"
      },
      "outputs": [
        {
          "data": {
            "text/plain": [
              "(array([1.73, 1.68, 1.71, 1.89, 1.79]), numpy.ndarray, (5,))"
            ]
          },
          "execution_count": 32,
          "metadata": {},
          "output_type": "execute_result"
        }
      ],
      "source": [
        "np_2d[0], type(np_2d[0]), np_2d[0].shape"
      ]
    },
    {
      "cell_type": "code",
      "execution_count": null,
      "metadata": {
        "colab": {
          "base_uri": "https://localhost:8080/"
        },
        "id": "xQM1KS1_aEyT",
        "outputId": "d7f5bfed-2274-4d92-c236-998532b86f80"
      },
      "outputs": [
        {
          "name": "stdout",
          "output_type": "stream",
          "text": [
            "1.73\n",
            "1.68\n",
            "1.71\n",
            "1.89\n",
            "1.79\n"
          ]
        }
      ],
      "source": [
        "for i in np_2d[0]:\n",
        "  print(i)"
      ]
    },
    {
      "cell_type": "code",
      "execution_count": null,
      "metadata": {
        "id": "mb78CxBhrL7A",
        "outputId": "8c90f289-aaab-4613-9138-f862464a4d77"
      },
      "outputs": [
        {
          "data": {
            "text/plain": [
              "array([1.73, 1.68, 1.71, 1.89, 1.79])"
            ]
          },
          "execution_count": 34,
          "metadata": {},
          "output_type": "execute_result"
        }
      ],
      "source": [
        "np_2d[0]"
      ]
    },
    {
      "cell_type": "code",
      "execution_count": null,
      "metadata": {
        "id": "ZHl1qChHrL7B",
        "outputId": "b97e26b6-2268-40ed-91ee-e6712e2b0ac2"
      },
      "outputs": [
        {
          "data": {
            "text/plain": [
              "array([65.4, 59.2, 63.6, 88.4, 68.7])"
            ]
          },
          "execution_count": 35,
          "metadata": {},
          "output_type": "execute_result"
        }
      ],
      "source": [
        "np_2d[1]"
      ]
    },
    {
      "cell_type": "code",
      "execution_count": null,
      "metadata": {
        "id": "fhhKUcu0rL7B",
        "outputId": "25cf5895-502f-4919-bff4-987fafa70bd7"
      },
      "outputs": [
        {
          "ename": "IndexError",
          "evalue": "index 2 is out of bounds for axis 0 with size 2",
          "output_type": "error",
          "traceback": [
            "\u001b[0;31m---------------------------------------------------------------------------\u001b[0m",
            "\u001b[0;31mIndexError\u001b[0m                                Traceback (most recent call last)",
            "\u001b[1;32m/home/andres-campos/UCentral_Maestria/Cursos_Python/Curso_Intro_Python/Lectura_7.ipynb Cell 50\u001b[0m in \u001b[0;36m<cell line: 1>\u001b[0;34m()\u001b[0m\n\u001b[0;32m----> <a href='vscode-notebook-cell:/home/andres-campos/UCentral_Maestria/Cursos_Python/Curso_Intro_Python/Lectura_7.ipynb#Y155sZmlsZQ%3D%3D?line=0'>1</a>\u001b[0m np_2d[\u001b[39m2\u001b[39;49m]\n",
            "\u001b[0;31mIndexError\u001b[0m: index 2 is out of bounds for axis 0 with size 2"
          ]
        }
      ],
      "source": [
        "#np_2d[2]"
      ]
    },
    {
      "cell_type": "code",
      "execution_count": null,
      "metadata": {
        "id": "7h4BlGLrrL7B",
        "outputId": "b586e55d-8c52-4c78-f6d9-9f95f213088c"
      },
      "outputs": [
        {
          "data": {
            "text/plain": [
              "array([[ 1.73,  1.68,  1.71,  1.89,  1.79],\n",
              "       [65.4 , 59.2 , 63.6 , 88.4 , 68.7 ]])"
            ]
          },
          "execution_count": 37,
          "metadata": {},
          "output_type": "execute_result"
        }
      ],
      "source": [
        "np_2d"
      ]
    },
    {
      "cell_type": "code",
      "execution_count": null,
      "metadata": {
        "colab": {
          "base_uri": "https://localhost:8080/"
        },
        "id": "U4fmMAtlYgSZ",
        "outputId": "928e94cd-db20-4ede-e082-a5685e6ac5d0"
      },
      "outputs": [
        {
          "name": "stdout",
          "output_type": "stream",
          "text": [
            "(1, 5)\n"
          ]
        },
        {
          "data": {
            "text/plain": [
              "array([[ 1.73,  1.68,  1.71,  1.89,  1.79],\n",
              "       [65.4 , 59.2 , 63.6 , 88.4 , 68.7 ]])"
            ]
          },
          "execution_count": 38,
          "metadata": {},
          "output_type": "execute_result"
        }
      ],
      "source": [
        "print(np_2d[:1].shape)\n",
        "np_2d[:2]"
      ]
    },
    {
      "cell_type": "code",
      "execution_count": null,
      "metadata": {
        "colab": {
          "base_uri": "https://localhost:8080/"
        },
        "id": "vLYX1IBeZGFP",
        "outputId": "4b476cd5-57c4-4f87-c333-64d1ceee2d38"
      },
      "outputs": [
        {
          "name": "stdout",
          "output_type": "stream",
          "text": [
            "[1.73 1.68 1.71 1.89 1.79]\n"
          ]
        }
      ],
      "source": [
        "for i in np_2d[:1]:\n",
        "  print(i)"
      ]
    },
    {
      "cell_type": "code",
      "execution_count": null,
      "metadata": {
        "id": "vfIhnUOsrL7C",
        "outputId": "098c655f-b430-4f99-b6a4-80541df98fe2"
      },
      "outputs": [
        {
          "data": {
            "text/plain": [
              "array([1.73, 1.68, 1.71, 1.89, 1.79])"
            ]
          },
          "execution_count": 40,
          "metadata": {},
          "output_type": "execute_result"
        }
      ],
      "source": [
        "## Primera fila\n",
        "np_2d[0, :]"
      ]
    },
    {
      "cell_type": "code",
      "execution_count": null,
      "metadata": {
        "colab": {
          "base_uri": "https://localhost:8080/"
        },
        "id": "rgnvEem-epQ0",
        "outputId": "3a284a21-99d9-47b6-dfe2-912c4def3153"
      },
      "outputs": [
        {
          "data": {
            "text/plain": [
              "array([65.4, 59.2, 63.6, 88.4, 68.7])"
            ]
          },
          "execution_count": 41,
          "metadata": {},
          "output_type": "execute_result"
        }
      ],
      "source": [
        "## Segunda fila\n",
        "np_2d[1, :]"
      ]
    },
    {
      "cell_type": "code",
      "execution_count": null,
      "metadata": {
        "id": "mPNY4ZUerL7D",
        "outputId": "518329b9-90a6-40d0-f783-418ddd49fcd4"
      },
      "outputs": [
        {
          "data": {
            "text/plain": [
              "array([[ 1.73,  1.68,  1.71,  1.89,  1.79],\n",
              "       [65.4 , 59.2 , 63.6 , 88.4 , 68.7 ]])"
            ]
          },
          "execution_count": 42,
          "metadata": {},
          "output_type": "execute_result"
        }
      ],
      "source": [
        "np_2d"
      ]
    },
    {
      "cell_type": "code",
      "execution_count": null,
      "metadata": {
        "colab": {
          "base_uri": "https://localhost:8080/"
        },
        "id": "meRVUOBybHyu",
        "outputId": "77504723-e3df-4881-b1e2-0fff2a92de5a"
      },
      "outputs": [
        {
          "data": {
            "text/plain": [
              "array([65.4, 59.2])"
            ]
          },
          "execution_count": 43,
          "metadata": {},
          "output_type": "execute_result"
        }
      ],
      "source": [
        "np_2d[1, 0:2]"
      ]
    },
    {
      "cell_type": "code",
      "execution_count": null,
      "metadata": {
        "colab": {
          "base_uri": "https://localhost:8080/"
        },
        "id": "6phYUBY2e5xW",
        "outputId": "4f079e18-7c06-4ef5-de2d-6c64652f222d"
      },
      "outputs": [
        {
          "data": {
            "text/plain": [
              "(1.73, 1.73)"
            ]
          },
          "execution_count": 44,
          "metadata": {},
          "output_type": "execute_result"
        }
      ],
      "source": [
        "## Elemento 0,0 en Python del arreglo.\n",
        "np_2d[0][0], np_2d[0,0]"
      ]
    },
    {
      "cell_type": "code",
      "execution_count": null,
      "metadata": {
        "colab": {
          "base_uri": "https://localhost:8080/"
        },
        "id": "xtfDUD-meuVT",
        "outputId": "8524abe9-fcf8-48e5-b1cc-803e0980a994"
      },
      "outputs": [
        {
          "data": {
            "text/plain": [
              "array([[ 1.68,  1.71],\n",
              "       [59.2 , 63.6 ]])"
            ]
          },
          "execution_count": 45,
          "metadata": {},
          "output_type": "execute_result"
        }
      ],
      "source": [
        "## Todas las filas y las columnas 1 y 2 en Python\n",
        "np_2d[:, 1:3]"
      ]
    },
    {
      "cell_type": "code",
      "execution_count": null,
      "metadata": {
        "colab": {
          "base_uri": "https://localhost:8080/"
        },
        "id": "duCZShuPcbBV",
        "outputId": "cefcb484-3934-4723-869c-9ecdfb5d9287"
      },
      "outputs": [
        {
          "data": {
            "text/plain": [
              "array([[[  1.73,   1.68,   1.71,   1.89,   1.79],\n",
              "        [ 65.4 ,  59.2 ,  63.6 ,  88.4 ,  68.7 ]],\n",
              "\n",
              "       [[  1.85,   1.68,   1.71,   1.89,   1.79],\n",
              "        [ 65.4 ,  59.2 ,  85.3 ,  88.4 ,  68.7 ]],\n",
              "\n",
              "       [[  1.9 ,   1.15,   1.81,   1.89,   1.79],\n",
              "        [ 69.4 ,  68.1 ,  70.6 ,  88.4 , 200.7 ]]])"
            ]
          },
          "execution_count": 46,
          "metadata": {},
          "output_type": "execute_result"
        }
      ],
      "source": [
        "## Arreglo de 3 compomentes de arreglos 2x5\n",
        "np_3d = np.array([\n",
        "    [[1.73, 1.68, 1.71, 1.89, 1.79],\n",
        "     [65.4, 59.2, 63.6, 88.4, 68.7]],\n",
        "    [[1.85, 1.68, 1.71, 1.89, 1.79],\n",
        "     [65.4, 59.2, 85.3, 88.4, 68.7]],\n",
        "    [[1.90, 1.15, 1.81, 1.89, 1.79],\n",
        "     [69.4, 68.1, 70.6, 88.4, 200.7]]\n",
        "     ])\n",
        "np_3d"
      ]
    },
    {
      "cell_type": "code",
      "execution_count": null,
      "metadata": {
        "colab": {
          "base_uri": "https://localhost:8080/"
        },
        "id": "LZEZPl76czee",
        "outputId": "582a48fc-adc0-4398-9949-ffbab815bbf8"
      },
      "outputs": [
        {
          "data": {
            "text/plain": [
              "(numpy.ndarray, (3, 2, 5))"
            ]
          },
          "execution_count": 47,
          "metadata": {},
          "output_type": "execute_result"
        }
      ],
      "source": [
        "type(np_3d), np_3d.shape"
      ]
    },
    {
      "cell_type": "markdown",
      "metadata": {
        "id": "_uMresN8rL7F"
      },
      "source": [
        "### ***Operaciones con matrices.***"
      ]
    },
    {
      "cell_type": "code",
      "execution_count": null,
      "metadata": {
        "id": "is_ByQL_rL7F",
        "outputId": "1db81b4c-718f-4c45-cf5c-3aba8c780236"
      },
      "outputs": [
        {
          "data": {
            "text/plain": [
              "array([[ 1.73,  1.68,  1.71,  1.89,  1.79],\n",
              "       [65.4 , 59.2 , 63.6 , 88.4 , 68.7 ]])"
            ]
          },
          "execution_count": 48,
          "metadata": {},
          "output_type": "execute_result"
        }
      ],
      "source": [
        "np_2d"
      ]
    },
    {
      "cell_type": "code",
      "execution_count": null,
      "metadata": {
        "colab": {
          "base_uri": "https://localhost:8080/"
        },
        "id": "FDrB9l3wXy8N",
        "outputId": "da67e3c9-ff53-4dce-8743-0dc0ea4202e4"
      },
      "outputs": [
        {
          "name": "stdout",
          "output_type": "stream",
          "text": [
            "[[ 1.73  1.68  1.71  1.89  1.79]\n",
            " [65.4  59.2  63.6  88.4  68.7 ]]\n"
          ]
        },
        {
          "data": {
            "text/plain": [
              "array([[ 1.73, 65.4 ],\n",
              "       [ 1.68, 59.2 ],\n",
              "       [ 1.71, 63.6 ],\n",
              "       [ 1.89, 88.4 ],\n",
              "       [ 1.79, 68.7 ]])"
            ]
          },
          "execution_count": 49,
          "metadata": {},
          "output_type": "execute_result"
        }
      ],
      "source": [
        "## Transpuesta\n",
        "print(np_2d)\n",
        "np_2d.transpose()"
      ]
    },
    {
      "cell_type": "code",
      "execution_count": null,
      "metadata": {
        "colab": {
          "base_uri": "https://localhost:8080/"
        },
        "id": "iEsIhOyKjCp3",
        "outputId": "e8cf6746-869a-4847-9d3f-6ea6899e5a0a"
      },
      "outputs": [
        {
          "name": "stdout",
          "output_type": "stream",
          "text": [
            "(2, 5)\n",
            "(5, 2)\n"
          ]
        },
        {
          "data": {
            "text/plain": [
              "array([[4280.1529, 3874.5864, 4162.3983, 5784.6297, 4496.0767],\n",
              "       [3874.5864, 3507.4624, 3767.9928, 5236.4552, 4070.0472],\n",
              "       [4162.3983, 3767.9928, 4047.8841, 5625.4719, 4372.3809],\n",
              "       [5784.6297, 5236.4552, 5625.4719, 7818.1321, 6076.4631],\n",
              "       [4496.0767, 4070.0472, 4372.3809, 6076.4631, 4722.8941]])"
            ]
          },
          "execution_count": 50,
          "metadata": {},
          "output_type": "execute_result"
        }
      ],
      "source": [
        "## Producto de matriz\n",
        "A = np_2d\n",
        "A_t = np_2d.transpose()\n",
        "\n",
        "## A_t multiplicación de matrices (@) con A\n",
        "print(A.shape)\n",
        "print(A_t.shape)\n",
        "A_t@A"
      ]
    },
    {
      "cell_type": "code",
      "execution_count": null,
      "metadata": {
        "colab": {
          "base_uri": "https://localhost:8080/"
        },
        "id": "Z9jgPP_TkIpJ",
        "outputId": "73baa596-18e3-4f4f-a06a-77187d19c2a3"
      },
      "outputs": [
        {
          "data": {
            "text/plain": [
              "array([[4280.1529, 3874.5864, 4162.3983, 5784.6297, 4496.0767],\n",
              "       [3874.5864, 3507.4624, 3767.9928, 5236.4552, 4070.0472],\n",
              "       [4162.3983, 3767.9928, 4047.8841, 5625.4719, 4372.3809],\n",
              "       [5784.6297, 5236.4552, 5625.4719, 7818.1321, 6076.4631],\n",
              "       [4496.0767, 4070.0472, 4372.3809, 6076.4631, 4722.8941]])"
            ]
          },
          "execution_count": 51,
          "metadata": {},
          "output_type": "execute_result"
        }
      ],
      "source": [
        "## Como un método de numpy.\n",
        "np.dot(A_t, A)"
      ]
    },
    {
      "cell_type": "code",
      "execution_count": null,
      "metadata": {
        "colab": {
          "base_uri": "https://localhost:8080/"
        },
        "id": "-bkTYR0IkxgS",
        "outputId": "71cbf0aa-0868-4962-f994-e6cfca8aacdc"
      },
      "outputs": [
        {
          "data": {
            "text/plain": [
              "array([[0., 0., 0., 0.],\n",
              "       [0., 0., 0., 0.],\n",
              "       [0., 0., 0., 0.]])"
            ]
          },
          "execution_count": 52,
          "metadata": {},
          "output_type": "execute_result"
        }
      ],
      "source": [
        "## Matriz de ceros\n",
        "np.zeros((3,4),)"
      ]
    },
    {
      "cell_type": "code",
      "execution_count": null,
      "metadata": {
        "colab": {
          "base_uri": "https://localhost:8080/"
        },
        "id": "HBZpQvN9k7cn",
        "outputId": "c8166f35-b8f8-4d93-9228-0cae28aa7ac7"
      },
      "outputs": [
        {
          "data": {
            "text/plain": [
              "array([[1., 0., 0.],\n",
              "       [0., 1., 0.],\n",
              "       [0., 0., 1.]])"
            ]
          },
          "execution_count": 53,
          "metadata": {},
          "output_type": "execute_result"
        }
      ],
      "source": [
        "## Matriz identidad\n",
        "np.identity(3)"
      ]
    },
    {
      "cell_type": "code",
      "execution_count": null,
      "metadata": {
        "colab": {
          "base_uri": "https://localhost:8080/"
        },
        "id": "ayqHSTmFQOSJ",
        "outputId": "e4b04746-97b6-4d10-af05-97fb20af5e0e"
      },
      "outputs": [
        {
          "data": {
            "text/plain": [
              "array([10.        , 10.4040404 , 10.80808081, 11.21212121, 11.61616162,\n",
              "       12.02020202, 12.42424242, 12.82828283, 13.23232323, 13.63636364,\n",
              "       14.04040404, 14.44444444, 14.84848485, 15.25252525, 15.65656566,\n",
              "       16.06060606, 16.46464646, 16.86868687, 17.27272727, 17.67676768,\n",
              "       18.08080808, 18.48484848, 18.88888889, 19.29292929, 19.6969697 ,\n",
              "       20.1010101 , 20.50505051, 20.90909091, 21.31313131, 21.71717172,\n",
              "       22.12121212, 22.52525253, 22.92929293, 23.33333333, 23.73737374,\n",
              "       24.14141414, 24.54545455, 24.94949495, 25.35353535, 25.75757576,\n",
              "       26.16161616, 26.56565657, 26.96969697, 27.37373737, 27.77777778,\n",
              "       28.18181818, 28.58585859, 28.98989899, 29.39393939, 29.7979798 ,\n",
              "       30.2020202 , 30.60606061, 31.01010101, 31.41414141, 31.81818182,\n",
              "       32.22222222, 32.62626263, 33.03030303, 33.43434343, 33.83838384,\n",
              "       34.24242424, 34.64646465, 35.05050505, 35.45454545, 35.85858586,\n",
              "       36.26262626, 36.66666667, 37.07070707, 37.47474747, 37.87878788,\n",
              "       38.28282828, 38.68686869, 39.09090909, 39.49494949, 39.8989899 ,\n",
              "       40.3030303 , 40.70707071, 41.11111111, 41.51515152, 41.91919192,\n",
              "       42.32323232, 42.72727273, 43.13131313, 43.53535354, 43.93939394,\n",
              "       44.34343434, 44.74747475, 45.15151515, 45.55555556, 45.95959596,\n",
              "       46.36363636, 46.76767677, 47.17171717, 47.57575758, 47.97979798,\n",
              "       48.38383838, 48.78787879, 49.19191919, 49.5959596 , 50.        ])"
            ]
          },
          "execution_count": 54,
          "metadata": {},
          "output_type": "execute_result"
        }
      ],
      "source": [
        "## 100  equidistantes entre 10 y 50\n",
        "np.linspace(start=10, stop=50, num=100)"
      ]
    },
    {
      "cell_type": "markdown",
      "metadata": {
        "id": "y3IRiGfcfgzE"
      },
      "source": [
        "---\n",
        "## En análisis de datos\n",
        "---"
      ]
    },
    {
      "cell_type": "code",
      "execution_count": null,
      "metadata": {
        "id": "R_Z27Fhnfnag"
      },
      "outputs": [],
      "source": [
        "np.random.seed(123)\n",
        "estaturas = np.round(np.random.normal(1.75, 0.20, 5000), 4)\n",
        "pesos = np.round(np.random.normal(60.32, 15, 5000), 4)\n",
        "np_bogota = np.column_stack((estaturas, pesos))"
      ]
    },
    {
      "cell_type": "code",
      "execution_count": null,
      "metadata": {
        "colab": {
          "base_uri": "https://localhost:8080/"
        },
        "id": "ROJ96h2Ff1XS",
        "outputId": "ae176930-326c-43b2-e803-faa6a413d585"
      },
      "outputs": [
        {
          "data": {
            "text/plain": [
              "(array([[ 1.5329, 65.1015],\n",
              "        [ 1.9495, 82.9866],\n",
              "        [ 1.8066, 43.2706],\n",
              "        ...,\n",
              "        [ 1.3781, 53.236 ],\n",
              "        [ 1.9328, 69.0495],\n",
              "        [ 1.4792, 74.8792]]),\n",
              " (5000, 2))"
            ]
          },
          "execution_count": 56,
          "metadata": {},
          "output_type": "execute_result"
        }
      ],
      "source": [
        "## Arreglo de dimensión 5000x2\n",
        "np_bogota, np_bogota.shape"
      ]
    },
    {
      "cell_type": "code",
      "execution_count": null,
      "metadata": {
        "colab": {
          "base_uri": "https://localhost:8080/"
        },
        "id": "Sw-UFXkQekjJ",
        "outputId": "d744b4b2-d814-42af-af02-c9932b360719"
      },
      "outputs": [
        {
          "data": {
            "text/plain": [
              "array([[ 1.5329, 65.1015],\n",
              "       [ 1.9495, 82.9866],\n",
              "       [ 1.8066, 43.2706],\n",
              "       [ 1.4487, 69.9569],\n",
              "       [ 1.6343, 43.4018]])"
            ]
          },
          "execution_count": 57,
          "metadata": {},
          "output_type": "execute_result"
        }
      ],
      "source": [
        "np_bogota[0:5,:]"
      ]
    },
    {
      "cell_type": "code",
      "execution_count": null,
      "metadata": {
        "colab": {
          "base_uri": "https://localhost:8080/"
        },
        "id": "nYYctAwjgems",
        "outputId": "1e4344ce-4005-42f3-80aa-8f137f19fd98"
      },
      "outputs": [
        {
          "data": {
            "text/plain": [
              "1.7542166000000001"
            ]
          },
          "execution_count": 58,
          "metadata": {},
          "output_type": "execute_result"
        }
      ],
      "source": [
        "## Media\n",
        "np.mean(np_bogota[:,0])"
      ]
    },
    {
      "cell_type": "code",
      "execution_count": null,
      "metadata": {
        "colab": {
          "base_uri": "https://localhost:8080/"
        },
        "id": "8guk_gVEhk0l",
        "outputId": "5f51b5fc-9ab1-48b4-9688-7069eb194a5b"
      },
      "outputs": [
        {
          "data": {
            "text/plain": [
              "60.23525"
            ]
          },
          "execution_count": 59,
          "metadata": {},
          "output_type": "execute_result"
        }
      ],
      "source": [
        "## Mediana\n",
        "np.median(np_bogota[:,1])"
      ]
    },
    {
      "cell_type": "code",
      "execution_count": null,
      "metadata": {
        "colab": {
          "base_uri": "https://localhost:8080/"
        },
        "id": "lZW1ITmeht1o",
        "outputId": "7e63bc21-1472-4bf5-d761-83a209845922"
      },
      "outputs": [
        {
          "data": {
            "text/plain": [
              "array([0.9897  , 1.6198  , 1.7559  , 1.887625, 2.4643  ])"
            ]
          },
          "execution_count": 60,
          "metadata": {},
          "output_type": "execute_result"
        }
      ],
      "source": [
        "## Los tres cuartiles de la variable estatura.\n",
        "np.quantile(np_bogota[:,0], [0, 0.25, 0.50, 0.75, 1])"
      ]
    },
    {
      "cell_type": "code",
      "execution_count": null,
      "metadata": {
        "colab": {
          "base_uri": "https://localhost:8080/"
        },
        "id": "cgDr-Kmhg0SF",
        "outputId": "4d367ee8-be03-446e-d092-0a0d7d62bd00"
      },
      "outputs": [
        {
          "data": {
            "text/plain": [
              "0.1975540062272593"
            ]
          },
          "execution_count": 61,
          "metadata": {},
          "output_type": "execute_result"
        }
      ],
      "source": [
        "## Desviación estandar\n",
        "np.std(np_bogota[:,0])"
      ]
    },
    {
      "cell_type": "code",
      "execution_count": null,
      "metadata": {
        "colab": {
          "base_uri": "https://localhost:8080/"
        },
        "id": "29OSWAemhAsY",
        "outputId": "27c42a57-b8aa-4db6-b87a-8fe7df23f915"
      },
      "outputs": [
        {
          "data": {
            "text/plain": [
              "array([[1.        , 0.00212582],\n",
              "       [0.00212582, 1.        ]])"
            ]
          },
          "execution_count": 62,
          "metadata": {},
          "output_type": "execute_result"
        }
      ],
      "source": [
        "## Matriz de Covarianzas\n",
        "np.corrcoef(np_bogota[:,0], np_bogota[:,1])"
      ]
    },
    {
      "cell_type": "markdown",
      "metadata": {
        "id": "0mATn6WorL7L"
      },
      "source": [
        "## ***En algebra lineal.***"
      ]
    },
    {
      "cell_type": "code",
      "execution_count": null,
      "metadata": {
        "id": "I3LlTseQrL7L",
        "outputId": "967f13cc-73b1-4192-ac55-9c9f73d218e0"
      },
      "outputs": [
        {
          "name": "stdout",
          "output_type": "stream",
          "text": [
            "Dado que el determinante de la matriz A es: 991.50, la matriz es invertible\n"
          ]
        }
      ],
      "source": [
        "## Producto de matrices\n",
        "\n",
        "A = np.array([[5, 3, 6, -5],\n",
        "              [-3, 0.5, 9, 22],\n",
        "              [-9, 5, 0, 3],\n",
        "              [5, -6, -1.5, 2]])\n",
        "\n",
        "print(f'Dado que el determinante de la matriz A es: {np.linalg.det(A):.2f}, la matriz es invertible')"
      ]
    },
    {
      "cell_type": "code",
      "execution_count": null,
      "metadata": {
        "id": "xnXz6rYbrL7M",
        "outputId": "f9444498-97c5-4d82-f568-3d8d26a01a42"
      },
      "outputs": [
        {
          "data": {
            "text/plain": [
              "array([-15.86762481, -21.86535552,  17.24407463,  -8.49394856])"
            ]
          },
          "execution_count": 64,
          "metadata": {},
          "output_type": "execute_result"
        }
      ],
      "source": [
        "## Resolvemos sistemAs de ecuAciones Ax = b\n",
        "b = np.array([1, 5, 8, 9])\n",
        "##\n",
        "x = np.linalg.solve(A, b); x"
      ]
    },
    {
      "cell_type": "code",
      "execution_count": null,
      "metadata": {
        "id": "nFnNJZdFrL7M",
        "outputId": "d89de2d2-0e90-4ae9-d9ae-da37252519cf"
      },
      "outputs": [
        {
          "data": {
            "text/plain": [
              "True"
            ]
          },
          "execution_count": 65,
          "metadata": {},
          "output_type": "execute_result"
        }
      ],
      "source": [
        "np.allclose(np.dot(A, x), b)"
      ]
    },
    {
      "cell_type": "markdown",
      "metadata": {
        "id": "u159WrgVrL7M"
      },
      "source": [
        "## ***Valores y vectores propios.***"
      ]
    },
    {
      "cell_type": "code",
      "execution_count": null,
      "metadata": {
        "id": "1aqEJ_IarL7M",
        "outputId": "1b4012d6-938c-4d69-b8ae-fad043285e1c"
      },
      "outputs": [
        {
          "data": {
            "text/plain": [
              "array([[ 5. ,  3. ,  6. , -5. ],\n",
              "       [-3. ,  0.5,  9. , 22. ],\n",
              "       [-9. ,  5. ,  0. ,  3. ],\n",
              "       [ 5. , -6. , -1.5,  2. ]])"
            ]
          },
          "execution_count": 66,
          "metadata": {},
          "output_type": "execute_result"
        }
      ],
      "source": [
        "A"
      ]
    },
    {
      "cell_type": "code",
      "execution_count": null,
      "metadata": {
        "id": "C_S9EsQLrL7M"
      },
      "outputs": [],
      "source": [
        "## Valores y vectores propios.\n",
        "\n",
        "eigenvalues, eigenvectors = np.linalg.eig(A)"
      ]
    },
    {
      "cell_type": "code",
      "execution_count": null,
      "metadata": {
        "id": "z9Hhw556rL7N",
        "outputId": "07e0d745-909e-4303-ca52-6138a3318a26"
      },
      "outputs": [
        {
          "data": {
            "text/plain": [
              "array([3.4631373+13.1008915j , 3.4631373-13.1008915j ,\n",
              "       0.2868627 +2.30591674j, 0.2868627 -2.30591674j])"
            ]
          },
          "execution_count": 68,
          "metadata": {},
          "output_type": "execute_result"
        }
      ],
      "source": [
        "eigenvalues"
      ]
    },
    {
      "cell_type": "code",
      "execution_count": null,
      "metadata": {
        "id": "NZMHWNaLrL7N",
        "outputId": "304f7578-2c25-482c-dd13-7b8ea943a916"
      },
      "outputs": [
        {
          "data": {
            "text/plain": [
              "array([[-0.34254317-0.32565231j, -0.34254317+0.32565231j,\n",
              "         0.48179976+0.14340771j,  0.48179976-0.14340771j],\n",
              "       [ 0.56588578+0.j        ,  0.56588578-0.j        ,\n",
              "         0.62488102+0.j        ,  0.62488102-0.j        ],\n",
              "       [ 0.40304226-0.31375016j,  0.40304226+0.31375016j,\n",
              "        -0.51928543+0.10693622j, -0.51928543-0.10693622j],\n",
              "       [-0.1353733 +0.4209274j , -0.1353733 -0.4209274j ,\n",
              "         0.27208103+0.04130549j,  0.27208103-0.04130549j]])"
            ]
          },
          "execution_count": 69,
          "metadata": {},
          "output_type": "execute_result"
        }
      ],
      "source": [
        "eigenvectors"
      ]
    },
    {
      "cell_type": "code",
      "execution_count": null,
      "metadata": {
        "id": "VTBTg5xvrL7N",
        "outputId": "abf031c9-f350-4f3f-c8af-f73ed17a2212"
      },
      "outputs": [
        {
          "name": "stdout",
          "output_type": "stream",
          "text": [
            "[ 3.08006154-5.61539953j  1.95974017+7.41360826j  5.50619753+4.19365298j\n",
            " -5.98334052-0.31578149j]\n",
            "[ 3.08006154-5.61539953j  1.95974017+7.41360826j  5.50619753+4.19365298j\n",
            " -5.98334052-0.31578149j]\n"
          ]
        }
      ],
      "source": [
        "## Verificación.  Av = \\lambda*v\n",
        "lambda_0 = eigenvalues[0]\n",
        "eigen_vec_0 = eigenvectors[:, 0]\n",
        "##\n",
        "print(np.dot(A, eigen_vec_0))               ## Av\n",
        "print(np.dot(lambda_0, eigen_vec_0))        ## \\lambda*v"
      ]
    },
    {
      "cell_type": "code",
      "execution_count": null,
      "metadata": {
        "id": "fDpU2j1HrL7O",
        "outputId": "0ebbf1bd-c3d0-4967-d643-67834a0e26bb"
      },
      "outputs": [
        {
          "data": {
            "text/plain": [
              "True"
            ]
          },
          "execution_count": 71,
          "metadata": {},
          "output_type": "execute_result"
        }
      ],
      "source": [
        "np.allclose(np.dot(A, eigen_vec_0), np.dot(lambda_0, eigen_vec_0))"
      ]
    }
  ],
  "metadata": {
    "colab": {
      "provenance": [],
      "include_colab_link": true
    },
    "kernelspec": {
      "display_name": "Python 3",
      "language": "python",
      "name": "python3"
    },
    "language_info": {
      "codemirror_mode": {
        "name": "ipython",
        "version": 3
      },
      "file_extension": ".py",
      "mimetype": "text/x-python",
      "name": "python",
      "nbconvert_exporter": "python",
      "pygments_lexer": "ipython3",
      "version": "3.8.10"
    },
    "vscode": {
      "interpreter": {
        "hash": "31f2aee4e71d21fbe5cf8b01ff0e069b9275f58929596ceb00d14d90e3e16cd6"
      }
    }
  },
  "nbformat": 4,
  "nbformat_minor": 0
}
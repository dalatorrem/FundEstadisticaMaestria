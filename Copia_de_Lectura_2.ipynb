{
  "nbformat": 4,
  "nbformat_minor": 0,
  "metadata": {
    "colab": {
      "provenance": [],
      "include_colab_link": true
    },
    "kernelspec": {
      "name": "python3",
      "display_name": "Python 3"
    },
    "language_info": {
      "name": "python"
    }
  },
  "cells": [
    {
      "cell_type": "markdown",
      "metadata": {
        "id": "view-in-github",
        "colab_type": "text"
      },
      "source": [
        "<a href=\"https://colab.research.google.com/github/dalatorrem/FundEstadisticaMaestria/blob/main/Copia_de_Lectura_2.ipynb\" target=\"_parent\"><img src=\"https://colab.research.google.com/assets/colab-badge.svg\" alt=\"Open In Colab\"/></a>"
      ]
    },
    {
      "cell_type": "markdown",
      "source": [
        "![identificadores_centrados_en_ti_logo-h.png](data:image/png;base64,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)"
      ],
      "metadata": {
        "id": "nsz5wWMEQOl9"
      }
    },
    {
      "cell_type": "markdown",
      "metadata": {
        "id": "kZalhy9wyqjz"
      },
      "source": [
        "---\n",
        "#Lectura 2 : Tipos de datos en Python\n",
        "---"
      ]
    },
    {
      "cell_type": "markdown",
      "metadata": {
        "id": "W3_dPy0sywEB"
      },
      "source": [
        "---\n",
        "## Introducción\n",
        "---\n",
        "\n",
        "Vamos a crear el popular programa \"Hola mundo\", el cual realiza la tarea más básica: imprimir en resultado de texto.\n",
        "\n",
        "Adicionalmente, hablaremos de errores, tipos de datos, listas, diccionarios."
      ]
    },
    {
      "cell_type": "markdown",
      "metadata": {
        "id": "YwxQG2Zg0cWH"
      },
      "source": [
        "## Bloques de código\n",
        "\n",
        "En su forma más básica, todo el código se compone de cuatro cosas: **valores**, **variables**, **operadores** y **funciones**. Cada pieza de software en la historia se compone de combinaciones de estos cuatro conceptos."
      ]
    },
    {
      "cell_type": "markdown",
      "metadata": {
        "id": "cBTYWF8g0zkb"
      },
      "source": [
        "### Valores y variables\n",
        "\n",
        "**Valores:** Simplemente un dato con el cual buscamos hacer algo. El número $30$ es un valor. Hay valores de muchos tipos, los de nuestro uso más frecuente serán los números y las cadenas o `strings`. El texto \"El lenguaje Python presente y futuro\" es una cadena o `strings`."
      ]
    },
    {
      "cell_type": "markdown",
      "source": [],
      "metadata": {
        "id": "m7fFk-WuX8zr"
      }
    },
    {
      "cell_type": "code",
      "metadata": {
        "colab": {
          "base_uri": "https://localhost:8080/",
          "height": 36
        },
        "id": "BsRAaD4-2Y2G",
        "outputId": "a94bbe95-e1e4-4030-a4b4-35a4143cd8b0"
      },
      "source": [
        "## String\n",
        "\"450\""
      ],
      "execution_count": null,
      "outputs": [
        {
          "output_type": "execute_result",
          "data": {
            "text/plain": [
              "'450'"
            ],
            "application/vnd.google.colaboratory.intrinsic+json": {
              "type": "string"
            }
          },
          "metadata": {},
          "execution_count": 1
        }
      ]
    },
    {
      "cell_type": "code",
      "metadata": {
        "colab": {
          "base_uri": "https://localhost:8080/",
          "height": 36
        },
        "id": "tP9W2HEyfPmJ",
        "outputId": "aefba126-9ac1-465d-ff17-a59ef828b035"
      },
      "source": [
        "\"hola a todos\""
      ],
      "execution_count": null,
      "outputs": [
        {
          "output_type": "execute_result",
          "data": {
            "text/plain": [
              "'hola a todos'"
            ],
            "application/vnd.google.colaboratory.intrinsic+json": {
              "type": "string"
            }
          },
          "metadata": {},
          "execution_count": 2
        }
      ]
    },
    {
      "cell_type": "code",
      "source": [
        "\"El lenguaje Python presente y futuro\""
      ],
      "metadata": {
        "colab": {
          "base_uri": "https://localhost:8080/",
          "height": 36
        },
        "id": "lUJZ9NwSrq-B",
        "outputId": "8a8da4e4-a4eb-4839-9e30-b26f7ee0c77c"
      },
      "execution_count": null,
      "outputs": [
        {
          "output_type": "execute_result",
          "data": {
            "text/plain": [
              "'El lenguaje Python presente y futuro'"
            ],
            "application/vnd.google.colaboratory.intrinsic+json": {
              "type": "string"
            }
          },
          "metadata": {},
          "execution_count": 3
        }
      ]
    },
    {
      "cell_type": "code",
      "metadata": {
        "colab": {
          "base_uri": "https://localhost:8080/"
        },
        "id": "rYbw2DQO2kAx",
        "outputId": "debf7683-83b7-407d-bb81-96c523937123"
      },
      "source": [
        "## Número\n",
        "30"
      ],
      "execution_count": null,
      "outputs": [
        {
          "output_type": "execute_result",
          "data": {
            "text/plain": [
              "30"
            ]
          },
          "metadata": {},
          "execution_count": 4
        }
      ]
    },
    {
      "cell_type": "markdown",
      "metadata": {
        "id": "9yrNkras2zF0"
      },
      "source": [
        "**Variables**: Es un almacenador que puede guardar información, entendia la misma desde un número, pasando por  `strings`, modelos y demás. Esto se puede utilizar para hacer uso de dicho objeto más adelante. Diremos que en este caso hemos asignado \"algo\" a una variables.\n",
        "\n",
        "La sintaxis de asignación es tan sencillo como: nombre a la izquiera, seguido de **=** y finalmente lo que asignará"
      ]
    },
    {
      "cell_type": "code",
      "metadata": {
        "id": "EOlbyvyV4vSu"
      },
      "source": [
        "## Asignamos a la variable valor, el número 30.\n",
        "valor = 30"
      ],
      "execution_count": null,
      "outputs": []
    },
    {
      "cell_type": "code",
      "metadata": {
        "colab": {
          "base_uri": "https://localhost:8080/"
        },
        "id": "gNuSx7G85AH2",
        "outputId": "f4b7c4f2-27d3-43a6-c725-1bd76390e149"
      },
      "source": [
        "## Obtenemos el resultado de la variable con solo colocar y nombre y ejecutar.\n",
        "valor + 60"
      ],
      "execution_count": null,
      "outputs": [
        {
          "output_type": "execute_result",
          "data": {
            "text/plain": [
              "90"
            ]
          },
          "metadata": {},
          "execution_count": 8
        }
      ]
    },
    {
      "cell_type": "markdown",
      "metadata": {
        "id": "IrcCtGTo43kp"
      },
      "source": [
        "### Funciones y operadores\n",
        "\n",
        "**Funciones** Código que toma una o múltiples entradas y realiza \"algo\" con ella o ellas.\n",
        "\n",
        "Una función tiene dos componentes:\n",
        "  su *nombre* y sus *entradas*\n",
        "\n",
        "1.   `nombre`\n",
        "2.   `entradas o parámetros`\n",
        "\n",
        "Generalmente se nombran comenzando con una letra minúscula. Algunos ejemplos de uso común en nuestro curso: `print()`, `type()` y `len()`.\n",
        "\n",
        "Si queremos que por ejemplo a sea visible una variable podemos usar **`print()`**. Esta función toma cualquier cosa imaginable en este y muestra que hay allí."
      ]
    },
    {
      "cell_type": "code",
      "metadata": {
        "colab": {
          "base_uri": "https://localhost:8080/"
        },
        "id": "iernWgsg7ySs",
        "outputId": "cc9ae382-359d-49c2-cdef-cb773b6f422c"
      },
      "source": [
        "## Imprimimos la varible valor y un texto.\n",
        "print(valor)\n",
        "print(\"Madrugar es una tarea difícil!!!\")"
      ],
      "execution_count": null,
      "outputs": [
        {
          "output_type": "stream",
          "name": "stdout",
          "text": [
            "30\n",
            "Madrugar es una tarea difícil!!!\n"
          ]
        }
      ]
    },
    {
      "cell_type": "markdown",
      "metadata": {
        "id": "qiX4eTlG8hXV"
      },
      "source": [
        "**Nota:**\n",
        "\n",
        "`print()` debe ser de uso frecuente, es bueno tomar el hábito de imprimir resultados intermedios y finales, buscando verificar que todo vaya marchando de la manera deseada. Solucionar problemas con su programa se llama **depuración**, y muchas veces la función `print()` es su herramienta principal para depurar rápidamente problemas simples y hasta complejos."
      ]
    },
    {
      "cell_type": "markdown",
      "metadata": {
        "id": "eXzZPzjX9jsO"
      },
      "source": [
        "La función `input()`permite que el código solicite una entrada a un usuario, lo cual genera dinamismo."
      ]
    },
    {
      "cell_type": "code",
      "metadata": {
        "colab": {
          "base_uri": "https://localhost:8080/"
        },
        "id": "rDCfnpiL-cTd",
        "outputId": "3f634721-3e72-45a8-fe5d-8c937c9db20a"
      },
      "source": [
        "## Solicitamos información y se almacena en las variables a,b,c\n",
        "a = input(\"¿Cuál es tu nombre?\")\n",
        "b = input(\"¿A qué te dedicas?\")\n",
        "c = input(\"¿Proporciona una cualidad tuya?\")\n",
        "\n",
        "print(\"----------------\")\n",
        "## Imprimimos la información\n",
        "print(a)\n",
        "print(\"se dedica a: \")\n",
        "print(b)\n",
        "print(\"se cataloga como:\")\n",
        "print(c)"
      ],
      "execution_count": null,
      "outputs": [
        {
          "output_type": "stream",
          "name": "stdout",
          "text": [
            "¿Cuál es tu nombre?Andres Campos\n",
            "¿A qué te dedicas?Docente\n",
            "¿Proporciona una cualidad tuya?NONE\n",
            "----------------\n",
            "Andres Campos\n",
            "se dedica a: \n",
            "Docente\n",
            "se cataloga como:\n",
            "NONE\n"
          ]
        }
      ]
    },
    {
      "cell_type": "markdown",
      "metadata": {
        "id": "1kcd4v7zAuv8"
      },
      "source": [
        "**Operadores**.\n",
        "\n",
        "Formas de lograr que los valores y las variables interactúen entre sí. Entre los más comunes están **operadores matemáticos**, como la suma, la multiplicación y la resta, pero hay muchos otros."
      ]
    },
    {
      "cell_type": "code",
      "metadata": {
        "colab": {
          "base_uri": "https://localhost:8080/"
        },
        "id": "QQ9SposXBNHx",
        "outputId": "6c4708e3-93fe-4c2c-b796-a3389a0eb0f0"
      },
      "source": [
        "a = 7\n",
        "b = 5\n",
        "\n",
        "c = a*2 ## Multiplicación\n",
        "d = a/2 ## División\n",
        "e = a+b ## Suma\n",
        "f = a**3 ## potenciación\n",
        "\n",
        "print(c)\n",
        "print(d)\n",
        "print(e)\n",
        "print(f)"
      ],
      "execution_count": null,
      "outputs": [
        {
          "output_type": "stream",
          "name": "stdout",
          "text": [
            "14\n",
            "3.5\n",
            "12\n",
            "343\n"
          ]
        }
      ]
    },
    {
      "cell_type": "markdown",
      "metadata": {
        "id": "UKFaf-VXBqXY"
      },
      "source": [
        "Para el caso de los `strings` es posible también realizar la suma, siendo esta una simple contatenación de cadenas."
      ]
    },
    {
      "cell_type": "code",
      "metadata": {
        "colab": {
          "base_uri": "https://localhost:8080/"
        },
        "id": "hbURdIzvB724",
        "outputId": "01b084ad-4bbd-49c2-90ee-0b1743150613"
      },
      "source": [
        "texto = 'Primera parte del texto '\n",
        "mas_texto = 'de la oración completa.'\n",
        "texto_completo = texto + mas_texto\n",
        "texto_alreves = mas_texto + texto\n",
        "print(texto_completo)\n",
        "print(texto_alreves)"
      ],
      "execution_count": null,
      "outputs": [
        {
          "output_type": "stream",
          "name": "stdout",
          "text": [
            "Primera parte del texto de la oración completa.\n",
            "de la oración completa.Primera parte del texto \n"
          ]
        }
      ]
    },
    {
      "cell_type": "markdown",
      "metadata": {
        "id": "O_ZRWNzICXYN"
      },
      "source": [
        "Podemos sobreescribir en las variables. En adelante la variable será su última asignación."
      ]
    },
    {
      "cell_type": "code",
      "metadata": {
        "colab": {
          "base_uri": "https://localhost:8080/"
        },
        "id": "eUkVMGRhCfCm",
        "outputId": "9283a5d3-aa2c-43c8-aef9-584f2c5cacc9"
      },
      "source": [
        "print(valor)\n",
        "\n",
        "valor = 2.1548\n",
        "print(valor)\n",
        "\n",
        "valor = \"Este es el número 2.1548\"\n",
        "print(valor)"
      ],
      "execution_count": null,
      "outputs": [
        {
          "output_type": "stream",
          "name": "stdout",
          "text": [
            "30\n",
            "2.1548\n",
            "Este es el número 2.1548\n"
          ]
        }
      ]
    },
    {
      "cell_type": "code",
      "metadata": {
        "colab": {
          "base_uri": "https://localhost:8080/",
          "height": 35
        },
        "id": "JyJeMssmC__S",
        "outputId": "8db9920c-b0aa-4838-9f33-616ce11600e0"
      },
      "source": [
        "valor"
      ],
      "execution_count": null,
      "outputs": [
        {
          "output_type": "execute_result",
          "data": {
            "application/vnd.google.colaboratory.intrinsic+json": {
              "type": "string"
            },
            "text/plain": [
              "'Este es el número 2.1548'"
            ]
          },
          "metadata": {},
          "execution_count": 12
        }
      ]
    },
    {
      "cell_type": "markdown",
      "metadata": {
        "id": "-po9vRWbD3lf"
      },
      "source": [
        "**Nota:**\n",
        "\n",
        "Python es sensible a las letras mayúsculas y minúsculas."
      ]
    },
    {
      "cell_type": "code",
      "metadata": {
        "id": "1jVXeZYaEEcH"
      },
      "source": [
        "Unavariable = \"Varible con un valor,\"\n",
        "unaVariable = \"esta variable tiene otro valor\"\n",
        "UnaVariable = 30"
      ],
      "execution_count": null,
      "outputs": []
    },
    {
      "cell_type": "code",
      "metadata": {
        "colab": {
          "base_uri": "https://localhost:8080/"
        },
        "id": "62yxWicOEjvc",
        "outputId": "72e6d4a1-fb59-4e5c-9c44-76fc116fabdd"
      },
      "source": [
        "print(Unavariable)\n",
        "print(unaVariable)\n",
        "print(UnaVariable)"
      ],
      "execution_count": null,
      "outputs": [
        {
          "output_type": "stream",
          "name": "stdout",
          "text": [
            "Varible con un valor,\n",
            "esta variable tiene otro valor\n",
            "30\n"
          ]
        }
      ]
    },
    {
      "cell_type": "code",
      "metadata": {
        "id": "TiCC1bpyEq3m",
        "colab": {
          "base_uri": "https://localhost:8080/"
        },
        "outputId": "7cfd9977-4cd6-431b-d8bf-43fd297b0a24"
      },
      "source": [
        "## Múltiples prints\n",
        "print(Unavariable, unaVariable, UnaVariable)"
      ],
      "execution_count": null,
      "outputs": [
        {
          "output_type": "stream",
          "name": "stdout",
          "text": [
            "Varible con un valor, esta variable tiene otro valor 30\n"
          ]
        }
      ]
    },
    {
      "cell_type": "code",
      "source": [
        "producto = 50*45\n",
        "print(f'Hola a todos {producto} -----> {unaVariable}')"
      ],
      "metadata": {
        "colab": {
          "base_uri": "https://localhost:8080/"
        },
        "id": "CmdWtGjIcgNT",
        "outputId": "0b18ba06-7a04-499a-b109-c86364c8b57f"
      },
      "execution_count": null,
      "outputs": [
        {
          "output_type": "stream",
          "name": "stdout",
          "text": [
            "Hola a todos 2250 -----> esta variable tiene otro valor\n"
          ]
        }
      ]
    },
    {
      "cell_type": "code",
      "source": [
        "print('Hola a todos', unaVariable, UnaVariable)"
      ],
      "metadata": {
        "colab": {
          "base_uri": "https://localhost:8080/"
        },
        "id": "PRy8mY69ctO-",
        "outputId": "cbb0215e-156d-44f0-af39-a97e40b66ad4"
      },
      "execution_count": null,
      "outputs": [
        {
          "output_type": "stream",
          "name": "stdout",
          "text": [
            "Hola a todos esta variable tiene otro valor 30\n"
          ]
        }
      ]
    },
    {
      "cell_type": "code",
      "source": [
        "print('Hola a todos {}'.format(UnaVariable))"
      ],
      "metadata": {
        "colab": {
          "base_uri": "https://localhost:8080/"
        },
        "id": "oWCw9-xVc1ww",
        "outputId": "18601c26-f7a5-4762-d2f1-96708267b95e"
      },
      "execution_count": null,
      "outputs": [
        {
          "output_type": "stream",
          "name": "stdout",
          "text": [
            "Hola a todos 30\n"
          ]
        }
      ]
    },
    {
      "cell_type": "markdown",
      "metadata": {
        "id": "wHl_4lzoFO3O"
      },
      "source": [
        "## Tipos de datos\n",
        "\n",
        "Entremos en algunos de los detalles de cómo Python interpreta lo que se pide realizar."
      ]
    },
    {
      "cell_type": "code",
      "metadata": {
        "colab": {
          "base_uri": "https://localhost:8080/",
          "height": 252
        },
        "id": "VBNUj02DFiWV",
        "outputId": "dbda1fe2-3665-4966-c359-a60c964cc722"
      },
      "source": [
        "print(a)\n",
        "print(mas_texto)\n",
        "##\n",
        "prueba = a + mas_texto\n",
        "print(prueba)"
      ],
      "execution_count": null,
      "outputs": [
        {
          "output_type": "stream",
          "name": "stdout",
          "text": [
            "7\n",
            "de la oración completa.\n"
          ]
        },
        {
          "output_type": "error",
          "ename": "TypeError",
          "evalue": "ignored",
          "traceback": [
            "\u001b[0;31m---------------------------------------------------------------------------\u001b[0m",
            "\u001b[0;31mTypeError\u001b[0m                                 Traceback (most recent call last)",
            "\u001b[0;32m<ipython-input-29-eeee4fdfa598>\u001b[0m in \u001b[0;36m<module>\u001b[0;34m\u001b[0m\n\u001b[1;32m      2\u001b[0m \u001b[0mprint\u001b[0m\u001b[0;34m(\u001b[0m\u001b[0mmas_texto\u001b[0m\u001b[0;34m)\u001b[0m\u001b[0;34m\u001b[0m\u001b[0;34m\u001b[0m\u001b[0m\n\u001b[1;32m      3\u001b[0m \u001b[0;31m##\u001b[0m\u001b[0;34m\u001b[0m\u001b[0;34m\u001b[0m\u001b[0;34m\u001b[0m\u001b[0m\n\u001b[0;32m----> 4\u001b[0;31m \u001b[0mprueba\u001b[0m \u001b[0;34m=\u001b[0m \u001b[0ma\u001b[0m \u001b[0;34m+\u001b[0m \u001b[0mmas_texto\u001b[0m\u001b[0;34m\u001b[0m\u001b[0;34m\u001b[0m\u001b[0m\n\u001b[0m\u001b[1;32m      5\u001b[0m \u001b[0mprint\u001b[0m\u001b[0;34m(\u001b[0m\u001b[0mprueba\u001b[0m\u001b[0;34m)\u001b[0m\u001b[0;34m\u001b[0m\u001b[0;34m\u001b[0m\u001b[0m\n",
            "\u001b[0;31mTypeError\u001b[0m: unsupported operand type(s) for +: 'int' and 'str'"
          ]
        }
      ]
    },
    {
      "cell_type": "markdown",
      "metadata": {
        "id": "LOKjgE2vGKId"
      },
      "source": [
        "El error muestra que el operador `+` no funciona entre `strings` y números. En Python cada valor y variable tiene un **tipo**. Este describe lo que se puede y no se puede hacer con un dato en particular y lo que representan esos datos.\n",
        "\n",
        "La función **`type()`** toma como entrada cualquier valor o variable e imprime su tipo."
      ]
    },
    {
      "cell_type": "markdown",
      "metadata": {
        "id": "3kfzRqaaHxC9"
      },
      "source": [
        "### `int`\n",
        "\n",
        "`int` se utiliza para representar a los números enteros:  4, -56, 1793, -96954, es decir, valores sin decimales."
      ]
    },
    {
      "cell_type": "code",
      "metadata": {
        "colab": {
          "base_uri": "https://localhost:8080/"
        },
        "id": "wIhwI2JvH2Qu",
        "outputId": "e9a59e17-44d3-4ba0-e1f0-539d7e275a29"
      },
      "source": [
        "a = 4568955122\n",
        "print(type(a))\n",
        "b = -58\n",
        "print(type(b))"
      ],
      "execution_count": null,
      "outputs": [
        {
          "output_type": "stream",
          "name": "stdout",
          "text": [
            "<class 'int'>\n",
            "<class 'int'>\n"
          ]
        }
      ]
    },
    {
      "cell_type": "code",
      "source": [
        "type(a)"
      ],
      "metadata": {
        "colab": {
          "base_uri": "https://localhost:8080/"
        },
        "id": "3qzIbVwF5MnH",
        "outputId": "ecb9b49d-3826-482f-8eca-fe3d86114e48"
      },
      "execution_count": null,
      "outputs": [
        {
          "output_type": "execute_result",
          "data": {
            "text/plain": [
              "int"
            ]
          },
          "metadata": {},
          "execution_count": 23
        }
      ]
    },
    {
      "cell_type": "markdown",
      "metadata": {
        "id": "vvOYLuNnH70r"
      },
      "source": [
        "### `float`\n",
        "\n",
        "En caso de necesitar decimales, hacemos uso del tipo de datos **`float`**. `float` puede representar números con hasta 16 dígitos de precisión (esto se llama \"doble precisión\").\n",
        "Ejemplos de `float`: -3.1416, 7/9, 24589.1245, o cualquiera con decimales."
      ]
    },
    {
      "cell_type": "code",
      "metadata": {
        "colab": {
          "base_uri": "https://localhost:8080/"
        },
        "id": "0L0-uP7NH7MY",
        "outputId": "83c3b3a8-c340-48db-f27c-63de174446b4"
      },
      "source": [
        "c = -65.452\n",
        "tipo_c = type(c)\n",
        "print(tipo_c)\n",
        "\n",
        "d = 1/6\n",
        "tipo_d = type(d)\n",
        "print(tipo_d)"
      ],
      "execution_count": null,
      "outputs": [
        {
          "output_type": "stream",
          "name": "stdout",
          "text": [
            "<class 'float'>\n",
            "<class 'float'>\n"
          ]
        }
      ]
    },
    {
      "cell_type": "markdown",
      "metadata": {
        "id": "yLQItdSnJBpS"
      },
      "source": [
        "### `str`\n",
        "\n",
        "**`str`** representa `cadenas`, es decir son **listas ordenadas de caracteres**, o valores de texto. Las cadenas tienen su propio conjunto de operadores y funciones integradas en Python. Sabemos como unirlos o contenarlos con el operador `+`:"
      ]
    },
    {
      "cell_type": "markdown",
      "metadata": {
        "id": "FKfGq069J6HM"
      },
      "source": [
        "### `bool`\n",
        "\n",
        "**`bool`** representa los valores lógicos `True` y `False`, sin tomar ningún otro valor."
      ]
    },
    {
      "cell_type": "code",
      "metadata": {
        "colab": {
          "base_uri": "https://localhost:8080/"
        },
        "id": "Y461v4JgJ4cA",
        "outputId": "e682c2d9-00a0-49b7-c470-8c6862c7efc5"
      },
      "source": [
        "variable_boolenana = True\n",
        "otra_variable_booleana = False\n",
        "print(type(variable_boolenana))\n",
        "print(type(otra_variable_booleana))"
      ],
      "execution_count": null,
      "outputs": [
        {
          "output_type": "stream",
          "name": "stdout",
          "text": [
            "<class 'bool'>\n",
            "<class 'bool'>\n"
          ]
        }
      ]
    },
    {
      "cell_type": "markdown",
      "metadata": {
        "id": "v5JeOJagMUc6"
      },
      "source": [
        "### Combinar y transformar tipos de datos\n",
        "\n",
        "No podemos adicionar `strings` con `bool`, `int` ni `float`. Pero podemos imprimirlos juntos en una línea. Aquí las formas más comunmente utilizadas."
      ]
    },
    {
      "cell_type": "code",
      "metadata": {
        "colab": {
          "base_uri": "https://localhost:8080/"
        },
        "id": "4qnoxgbWLCYg",
        "outputId": "b3482baa-85a4-4c9f-dcab-114fc12dbb30"
      },
      "source": [
        "a = 10\n",
        "b = 5\n",
        "print('El resultado de', a, 'dividido por', b, 'es igual a:', a/b)"
      ],
      "execution_count": null,
      "outputs": [
        {
          "output_type": "stream",
          "name": "stdout",
          "text": [
            "El resultado de 10 dividido por 5 es igual a: 2.0\n"
          ]
        }
      ]
    },
    {
      "cell_type": "code",
      "metadata": {
        "colab": {
          "base_uri": "https://localhost:8080/"
        },
        "id": "16RzsOdnLa2S",
        "outputId": "c8c7d2f9-c787-42ac-cbd4-c131a020061d"
      },
      "source": [
        "a = 10\n",
        "b = 5\n",
        "print(f'El resultado de {a} dividido por {b} es igual a: {a/b}')"
      ],
      "execution_count": null,
      "outputs": [
        {
          "output_type": "stream",
          "name": "stdout",
          "text": [
            "El resultado de 10 dividido por 5 es igual a: 2.0\n"
          ]
        }
      ]
    },
    {
      "cell_type": "code",
      "metadata": {
        "colab": {
          "base_uri": "https://localhost:8080/"
        },
        "id": "NdmiDXubMBQp",
        "outputId": "de5e7f85-f284-42cc-ce64-15c8463259a5"
      },
      "source": [
        "a = 10\n",
        "b = 5\n",
        "print('El resultado de {} dividido por {} es igual a: {}'.format(a, b, a/b))"
      ],
      "execution_count": null,
      "outputs": [
        {
          "output_type": "stream",
          "name": "stdout",
          "text": [
            "El resultado de 10 dividido por 5 es igual a: 2.0\n"
          ]
        }
      ]
    },
    {
      "cell_type": "markdown",
      "metadata": {
        "id": "rcBk0CN1Nl04"
      },
      "source": [
        "Otra opción es transformar los números en `strings` y luego adicionarlos. Para transformar un número en un `string`, debemos usar la función `str()`, que toma como entrada un valor o variable que no es un `string`, y vuelve uno."
      ]
    },
    {
      "cell_type": "code",
      "source": [
        "10/2"
      ],
      "metadata": {
        "colab": {
          "base_uri": "https://localhost:8080/"
        },
        "id": "P-vwGzLggfPj",
        "outputId": "4d98b86e-36dc-4b3a-b8f9-a44c2170a954"
      },
      "execution_count": null,
      "outputs": [
        {
          "output_type": "execute_result",
          "data": {
            "text/plain": [
              "5.0"
            ]
          },
          "metadata": {},
          "execution_count": 40
        }
      ]
    },
    {
      "cell_type": "code",
      "source": [
        "int(10/2)"
      ],
      "metadata": {
        "colab": {
          "base_uri": "https://localhost:8080/"
        },
        "id": "gkpNnMg7grQI",
        "outputId": "95d43786-325a-483c-f45b-51db412cf2be"
      },
      "execution_count": null,
      "outputs": [
        {
          "output_type": "execute_result",
          "data": {
            "text/plain": [
              "5"
            ]
          },
          "metadata": {},
          "execution_count": 41
        }
      ]
    },
    {
      "cell_type": "code",
      "source": [
        "type(int(10/2))"
      ],
      "metadata": {
        "colab": {
          "base_uri": "https://localhost:8080/"
        },
        "id": "LVb8jJsDC2-v",
        "outputId": "44d8157d-c10f-4c45-ba18-5c11ac462995"
      },
      "execution_count": null,
      "outputs": [
        {
          "output_type": "execute_result",
          "data": {
            "text/plain": [
              "int"
            ]
          },
          "metadata": {},
          "execution_count": 42
        }
      ]
    },
    {
      "cell_type": "code",
      "metadata": {
        "colab": {
          "base_uri": "https://localhost:8080/"
        },
        "id": "hTVsBIb8OaSj",
        "outputId": "af2644bd-ddaa-4722-ff09-41c9513f083d"
      },
      "source": [
        "a = 10\n",
        "b = 5\n",
        "string_a = str(a)\n",
        "string_b = str(b)\n",
        "\n",
        "print(string_a)\n",
        "print(string_b)\n",
        "print(type(string_a))\n",
        "print(type(string_b))\n",
        "print('El resultado de '+ string_a + ' dividido por ' + string_b + ' es igual a: ' + str(a/b))"
      ],
      "execution_count": null,
      "outputs": [
        {
          "output_type": "stream",
          "name": "stdout",
          "text": [
            "10\n",
            "5\n",
            "<class 'str'>\n",
            "<class 'str'>\n",
            "El resultado de 10 dividido por 5 es igual a: 2.0\n"
          ]
        }
      ]
    },
    {
      "cell_type": "markdown",
      "metadata": {
        "id": "JfNpVznwPyDb"
      },
      "source": [
        "Es posible transformar números en cadenas, pero también puede transformar `strings` con números en un tipo de datos numéricos para operar con ellos. Para ello tenemos: `int()`, que tiene como parámetro un `string` que contiene un número y devuelve un `int`, y la función `float() `, que hace lo mismo pero devuelve un `float`."
      ]
    },
    {
      "cell_type": "code",
      "metadata": {
        "colab": {
          "base_uri": "https://localhost:8080/"
        },
        "id": "jttV3QwFPxak",
        "outputId": "dbfa9e8b-c643-4a54-9934-24b4246f690e"
      },
      "source": [
        "a = '5'\n",
        "b = '12.57'\n",
        "\n",
        "int_a = int(a)\n",
        "float_b = float(b)\n",
        "\n",
        "print(\"El producto de a y b es igual a\", int_a*float_b)"
      ],
      "execution_count": null,
      "outputs": [
        {
          "output_type": "stream",
          "name": "stdout",
          "text": [
            "El producto de a y b es igual a 62.85\n"
          ]
        }
      ]
    },
    {
      "cell_type": "markdown",
      "metadata": {
        "id": "cCbQzeQcROT3"
      },
      "source": [
        "---\n",
        "## Tipos de datos compuestos\n",
        "---\n",
        "\n",
        "Hay otro tipo importante de tipo de datos llamados: **tipos compuestos**. Estos son tipos de datos que combinan varios valores en una sola variable.\n",
        "\n",
        "Al igual que con los tipos de datos básicos, existen varios tipos de tipos compuestos. Los dos más comunes son la **lista** y el **diccionario**. Para este caso, revisaremos las listas y cómo funcionan en Python."
      ]
    },
    {
      "cell_type": "code",
      "metadata": {
        "id": "5kEVklKNRNqK",
        "colab": {
          "base_uri": "https://localhost:8080/"
        },
        "outputId": "26c732e8-4669-4adc-9087-dd067a1bd6e8"
      },
      "source": [
        "[1,2,3,4,5,6]"
      ],
      "execution_count": null,
      "outputs": [
        {
          "output_type": "execute_result",
          "data": {
            "text/plain": [
              "[1, 2, 3, 4, 5, 6]"
            ]
          },
          "metadata": {},
          "execution_count": 1
        }
      ]
    },
    {
      "cell_type": "code",
      "metadata": {
        "id": "NEQxOs3bRoTO",
        "colab": {
          "base_uri": "https://localhost:8080/"
        },
        "outputId": "ce9eaf18-1b2a-4f3a-92d1-9f846ac9f514"
      },
      "source": [
        "mi_lista = [1, 2, 3, 4, 5, 6]\n",
        "print(mi_lista)\n",
        "print(type(mi_lista))"
      ],
      "execution_count": null,
      "outputs": [
        {
          "output_type": "stream",
          "name": "stdout",
          "text": [
            "[1, 2, 3, 4, 5, 6]\n",
            "<class 'list'>\n"
          ]
        }
      ]
    },
    {
      "cell_type": "code",
      "source": [
        "mi_lista.append(\"sdgjkjkfdghjkfh\")"
      ],
      "metadata": {
        "id": "lsIctO9VS3UA"
      },
      "execution_count": null,
      "outputs": []
    },
    {
      "cell_type": "code",
      "source": [
        "mi_lista"
      ],
      "metadata": {
        "colab": {
          "base_uri": "https://localhost:8080/"
        },
        "id": "FClzCt6STIg_",
        "outputId": "577e9f77-91d8-4a0e-c0bb-69cdfaaad9fd"
      },
      "execution_count": null,
      "outputs": [
        {
          "output_type": "execute_result",
          "data": {
            "text/plain": [
              "[1, 2, 3, 4, 5, 6, 'sdgjkjkfdghjkfh']"
            ]
          },
          "metadata": {},
          "execution_count": 5
        }
      ]
    },
    {
      "cell_type": "code",
      "source": [
        "list_num = [x for x in range(20)]; list_num"
      ],
      "metadata": {
        "colab": {
          "base_uri": "https://localhost:8080/"
        },
        "id": "W24krmPTTL_3",
        "outputId": "b26aff2c-5b81-441c-e02b-f15536ad86e3"
      },
      "execution_count": null,
      "outputs": [
        {
          "output_type": "execute_result",
          "data": {
            "text/plain": [
              "[0, 1, 2, 3, 4, 5, 6, 7, 8, 9, 10, 11, 12, 13, 14, 15, 16, 17, 18, 19]"
            ]
          },
          "metadata": {},
          "execution_count": 6
        }
      ]
    },
    {
      "cell_type": "code",
      "source": [
        "13%2"
      ],
      "metadata": {
        "colab": {
          "base_uri": "https://localhost:8080/"
        },
        "id": "qaSl26_xT3I1",
        "outputId": "52d4bf81-56e1-4c2a-8a34-57108ceecd38"
      },
      "execution_count": null,
      "outputs": [
        {
          "output_type": "execute_result",
          "data": {
            "text/plain": [
              "1"
            ]
          },
          "metadata": {},
          "execution_count": 10
        }
      ]
    },
    {
      "cell_type": "code",
      "source": [
        "pares = []\n",
        "\n",
        "for num in list_num:\n",
        "    if num%2 == 0:\n",
        "        pares.append(num)\n",
        "\n",
        "pares"
      ],
      "metadata": {
        "colab": {
          "base_uri": "https://localhost:8080/"
        },
        "id": "KJrb--RrTc4H",
        "outputId": "1bf72e44-ed94-467e-d974-8f128fb52bc3"
      },
      "execution_count": null,
      "outputs": [
        {
          "output_type": "execute_result",
          "data": {
            "text/plain": [
              "[0, 2, 4, 6, 8, 10, 12, 14, 16, 18]"
            ]
          },
          "metadata": {},
          "execution_count": 12
        }
      ]
    },
    {
      "cell_type": "code",
      "source": [
        "pares1 = [num for num in list_num if num%2 == 0]\n",
        "print(pares1)\n",
        "pares1.reverse()\n",
        "print(pares1)\n",
        "pares1[]"
      ],
      "metadata": {
        "colab": {
          "base_uri": "https://localhost:8080/"
        },
        "id": "KwDg5dnvUtGM",
        "outputId": "018685b9-aee5-4384-8fcb-d8a0e8f286a0"
      },
      "execution_count": null,
      "outputs": [
        {
          "output_type": "stream",
          "name": "stdout",
          "text": [
            "[0, 2, 4, 6, 8, 10, 12, 14, 16, 18]\n",
            "[18, 16, 14, 12, 10, 8, 6, 4, 2, 0]\n"
          ]
        },
        {
          "output_type": "execute_result",
          "data": {
            "text/plain": [
              "[18, 16, 14, 12, 10]"
            ]
          },
          "metadata": {},
          "execution_count": 23
        }
      ]
    },
    {
      "cell_type": "code",
      "source": [
        "num_mayores_diez = [num for num in range(20) if num >10]\n",
        "num_mayores_diez"
      ],
      "metadata": {
        "colab": {
          "base_uri": "https://localhost:8080/"
        },
        "id": "oZG3zB_ukZM4",
        "outputId": "c1a28bd6-c46b-4357-889c-7706c940adcc"
      },
      "execution_count": null,
      "outputs": [
        {
          "output_type": "execute_result",
          "data": {
            "text/plain": [
              "[11, 12, 13, 14, 15, 16, 17, 18, 19]"
            ]
          },
          "metadata": {},
          "execution_count": 16
        }
      ]
    },
    {
      "cell_type": "markdown",
      "metadata": {
        "id": "G88b5UgnR2Fa"
      },
      "source": [
        "Las listas pueden contener cualquier valor y ellos pueden ser de cualquier tipo. Se considera de mala forma mezclar más de un tipo de datos en una sola lista."
      ]
    },
    {
      "cell_type": "code",
      "metadata": {
        "id": "vdjOgtsfSHMn",
        "colab": {
          "base_uri": "https://localhost:8080/"
        },
        "outputId": "353bd777-b4a3-42d6-bbdf-070863d5f02a"
      },
      "source": [
        "otra_lista = [True, 'two', 3.54,  4]\n",
        "print(otra_lista)"
      ],
      "execution_count": null,
      "outputs": [
        {
          "output_type": "stream",
          "name": "stdout",
          "text": [
            "[True, 'two', 3.54, 4]\n"
          ]
        }
      ]
    },
    {
      "cell_type": "code",
      "source": [
        "print(type(mi_lista))"
      ],
      "metadata": {
        "colab": {
          "base_uri": "https://localhost:8080/"
        },
        "id": "_WGhyYptCEli",
        "outputId": "f69f8382-d5a7-4e5f-9bfb-57574a3a4850"
      },
      "execution_count": null,
      "outputs": [
        {
          "output_type": "stream",
          "name": "stdout",
          "text": [
            "<class 'list'>\n"
          ]
        }
      ]
    },
    {
      "cell_type": "code",
      "source": [
        "for i in otra_lista:\n",
        "    print(i)\n",
        "    print(\"--\"*10)"
      ],
      "metadata": {
        "colab": {
          "base_uri": "https://localhost:8080/"
        },
        "id": "oLgbgI4ik4xw",
        "outputId": "0bbf6523-d4ab-41ec-b775-0a14b83136e7"
      },
      "execution_count": null,
      "outputs": [
        {
          "output_type": "stream",
          "name": "stdout",
          "text": [
            "True\n",
            "--------------------\n",
            "two\n",
            "--------------------\n",
            "3.54\n",
            "--------------------\n",
            "4\n",
            "--------------------\n"
          ]
        }
      ]
    },
    {
      "cell_type": "markdown",
      "metadata": {
        "id": "GlFFnrv5SY8r"
      },
      "source": [
        "---\n",
        "## Conclusión\n",
        "---\n",
        "\n",
        "Es esta lectura se aprendió sobre los cuatro componentes básicos de Python. Un par de las reglas de sintaxis más importantes en Python, los tipos de datos más comunes en Python y cómo transformar un tipo de datos en otro.\n",
        "\n",
        "Se finaliza aprendiendo sobre listas (un tipo de datos compuestos)."
      ]
    }
  ]
}